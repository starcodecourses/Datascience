{
  "nbformat": 4,
  "nbformat_minor": 0,
  "metadata": {
    "colab": {
      "provenance": [],
      "toc_visible": true
    },
    "kernelspec": {
      "name": "python3",
      "display_name": "Python 3"
    },
    "language_info": {
      "name": "python"
    }
  },
  "cells": [
    {
      "cell_type": "markdown",
      "source": [
        "# **Herzlich willkommen im Kurs Data Science für Klimadaten!** ⭐\n",
        "\n",
        "\n",
        "Heute werden wir gemeinsam Klimadaten mit der Programmiersprache Python analysieren, auswerten und veranschaulichen.\n",
        "\n",
        "Viel Spaß!"
      ],
      "metadata": {
        "id": "BlCF_tYdSaVJ"
      }
    },
    {
      "cell_type": "markdown",
      "source": [
        "# Theoretischer Hintergrund zu Data Science 🧠⏭\n",
        "\n",
        "**Was ist Data Science?**\n",
        "\n",
        "Data Science bezeichnet die Wissenschaft zur Gewinnung von Informationen aus großer Datenmengen. Sie stellt die Schnittstelle zwischen Mathematik/Statistik, Informatik/Programmieren und Fachwissen dar. Bei der Analyse von Daten wird häuffig versucht, Muster zu erkennen und daraus Vorhersagen für zukünftige Ereignisse zu treffen.\n",
        "\n",
        "\n",
        "\n",
        "**Sind Daten immer objektiv?**\n",
        "\n",
        "Eigentlich sollte man meinen, dass gerade Daten besonders objektiv sind, aber tatsächlich kann es sehr schnell passieren, dass Daten verzerrt sind oder eine Voreingenommenheit widerspiegeln. Dabei kann sich eine Verzerrung oder Voreingenommenheit auf ganz unterschiedlichen Wegen in Daten einschleichen. So kann die Verzerrung schon bei der Erhebung der Daten entstehen, aber auch erst bei der Interpretation der Daten.\n",
        "\n",
        "Ein Beispiel für eine Verzerrung bei der Erhebung der Daten wäre, wenn man eine bestimmte Gruppe von Menschen z.B. gar nicht befragt und somit dann natürlich auch nicht in den Daten abbildet. Das nennt sich dann Selection Bias, was so viel bedeutet wie eine Verzerrung, die durch die Auswahl von z.B. Teilnehmer*innen einer Befragung entsteht.\n",
        "Ein anderes Beispiel für eine Voreingenommenheit von Daten bei der Interpretation der Daten nennt man Confirmation Bias. Hierbei geht es darum, dass die Verzerrung erst später, also der bei der Interpretation der Daten durch den Menschen entsteht. Der Grund für die Verzerrung ist dabei meistens, dass die Einstellungen oder Vorurteile des Menschen einfach auf dei Daten übertragen werden, damit diese dann quasi die eigenen Vorurteile bestätigen.\n",
        "\n",
        "\n",
        "Man sollte sich daher also immer fragen, woher die Daten kommen und wie sie gemessen wurden.\n"
      ],
      "metadata": {
        "id": "83LuTMImLi3l"
      }
    },
    {
      "cell_type": "markdown",
      "source": [
        "#Einführung in Python und Notebooks 💻 📔\n",
        "\n",
        "\n",
        "\n",
        "Python ist einer der am meisten benutzten Programmiersprachen. Sie wird in vielen Bereichen, z.B. auch in Data Science, eingesetzt. Man kann Python-Code in verschiedenen Entwicklungsumgebungen schreiben. Für unseren Kurs benutzen wir Notebooks wie dieses hier. In Notebooks wird der Code und auch Text in Blöcken geschrieben, was sehr übersichtlich ist. Jetzt wollen wir uns erstmal mit Python und Notebooks vertraut machen."
      ],
      "metadata": {
        "id": "oIt-ivVyLAsZ"
      }
    },
    {
      "cell_type": "markdown",
      "source": [
        "<font color='sky blue'>__Aufgabe:__  <br>\n",
        " Füge einen neuen Codeblock und einen neuen Textblock hinzu. Dafür musst du oben in der Leiste auf `+ Code` und `+ Text` klicken. Du kannst versuchen, den Inhalt zu bearbeiten, die Reihenfolge zu verändern und die Blöcke auch wieder zu löschen.</font>"
      ],
      "metadata": {
        "id": "c6MdiS0pK8D6"
      }
    },
    {
      "cell_type": "markdown",
      "source": [
        "Vielleicht hast du den folgenden Code so oder so ähnlich schon einmal gesehen. Mit dem Befehl `print` kannst du den Inhalt der Klammern ausgeben. Du kannst den Code ausführen, indem du auf den Playbutton auf der linken Seite des Codeblocks klickst."
      ],
      "metadata": {
        "id": "VB0XhmuGMPrx"
      }
    },
    {
      "cell_type": "code",
      "source": [
        "print(\"Hello World\")"
      ],
      "metadata": {
        "id": "6Gv9OL2eMRBr",
        "outputId": "fbf08ed9-dac9-4917-9eb7-b01167eff42a",
        "colab": {
          "base_uri": "https://localhost:8080/"
        }
      },
      "execution_count": null,
      "outputs": [
        {
          "output_type": "stream",
          "name": "stdout",
          "text": [
            "Hello World\n"
          ]
        }
      ]
    },
    {
      "cell_type": "markdown",
      "source": [
        "Codezeilen mit einem Hashtag (#) davor werden nicht ausgeführt. Man nennt sie Kommentare, denn man kann damit seinen Code mit Erkärungen kommentieren, sodass andere ihn verstehen können. Wenn man einen Hashtag hinter eine Codezeile schreibt, wird der Rest der Zeile auch ignoriert.\n",
        "Hier ein Beispiel:"
      ],
      "metadata": {
        "id": "68S5Va9gMTSM"
      }
    },
    {
      "cell_type": "code",
      "source": [
        "# Das ist ein Kommentar."
      ],
      "metadata": {
        "id": "wxrhlnJxMY1H"
      },
      "execution_count": null,
      "outputs": []
    },
    {
      "cell_type": "code",
      "source": [
        "print(\"Diese Zeile wird ausgeführt\")  # aber nur bist zum \"#\""
      ],
      "metadata": {
        "id": "ZNmLCL6lpQxc",
        "outputId": "e80f3808-d98a-4e25-ec34-72b462b84686",
        "colab": {
          "base_uri": "https://localhost:8080/"
        }
      },
      "execution_count": null,
      "outputs": [
        {
          "output_type": "stream",
          "name": "stdout",
          "text": [
            "Diese Zeile wird ausgeführt\n"
          ]
        }
      ]
    },
    {
      "cell_type": "markdown",
      "source": [
        "Der Computer ist wie ein großer Taschenrechner. In den folgenden Codeblöcken findest du ein paar weitere Code-Beispiele.\n",
        "\n",
        "\n",
        "\n",
        "<font color='sky blue'>__Aufgabe:__  <br>\n",
        " Führe die folgenden Codezeilen aus und ändere dabei die Zahlen!</font>"
      ],
      "metadata": {
        "id": "eFeQFK5LMeL3"
      }
    },
    {
      "cell_type": "code",
      "source": [
        "3+7"
      ],
      "metadata": {
        "id": "EEXKZS-cMnkL",
        "outputId": "0f2541dc-fb6e-44bb-9ce0-f6475dae40c8",
        "colab": {
          "base_uri": "https://localhost:8080/"
        }
      },
      "execution_count": null,
      "outputs": [
        {
          "output_type": "execute_result",
          "data": {
            "text/plain": [
              "10"
            ]
          },
          "metadata": {},
          "execution_count": 4
        }
      ]
    },
    {
      "cell_type": "code",
      "source": [
        "a = 6\n",
        "b = 2\n",
        "\n",
        "print(a)"
      ],
      "metadata": {
        "id": "xphCBXQlMpet",
        "outputId": "452bfe33-0e6f-4f19-d16e-3cf779e76984",
        "colab": {
          "base_uri": "https://localhost:8080/"
        }
      },
      "execution_count": null,
      "outputs": [
        {
          "output_type": "stream",
          "name": "stdout",
          "text": [
            "6\n"
          ]
        }
      ]
    },
    {
      "cell_type": "code",
      "source": [
        "# Summe\n",
        "a+b"
      ],
      "metadata": {
        "id": "rbrZlJ7pMrQN",
        "outputId": "9c66dfdf-3e93-407a-c937-5e9c301ca316",
        "colab": {
          "base_uri": "https://localhost:8080/"
        }
      },
      "execution_count": null,
      "outputs": [
        {
          "output_type": "execute_result",
          "data": {
            "text/plain": [
              "8"
            ]
          },
          "metadata": {},
          "execution_count": 6
        }
      ]
    },
    {
      "cell_type": "code",
      "source": [
        "# Differenz\n",
        "a-b"
      ],
      "metadata": {
        "id": "wH-O1d7SMsz3",
        "outputId": "dcb4c1d3-9cb3-4d24-eec8-c762312a6a8d",
        "colab": {
          "base_uri": "https://localhost:8080/"
        }
      },
      "execution_count": null,
      "outputs": [
        {
          "output_type": "execute_result",
          "data": {
            "text/plain": [
              "4"
            ]
          },
          "metadata": {},
          "execution_count": 7
        }
      ]
    },
    {
      "cell_type": "code",
      "source": [
        "# Produkt\n",
        "a*b"
      ],
      "metadata": {
        "id": "09iaXCZXMuaM",
        "outputId": "b99a84d8-aa97-4520-d8ed-adf4857131de",
        "colab": {
          "base_uri": "https://localhost:8080/"
        }
      },
      "execution_count": null,
      "outputs": [
        {
          "output_type": "execute_result",
          "data": {
            "text/plain": [
              "12"
            ]
          },
          "metadata": {},
          "execution_count": 8
        }
      ]
    },
    {
      "cell_type": "code",
      "source": [
        "# Quotient\n",
        "a/b"
      ],
      "metadata": {
        "id": "VxUH-SvMMwZc",
        "outputId": "40108d10-fbe2-463a-9a6b-09dda2001d1b",
        "colab": {
          "base_uri": "https://localhost:8080/"
        }
      },
      "execution_count": null,
      "outputs": [
        {
          "output_type": "execute_result",
          "data": {
            "text/plain": [
              "3.0"
            ]
          },
          "metadata": {},
          "execution_count": 9
        }
      ]
    },
    {
      "cell_type": "markdown",
      "source": [
        "# Data Science für Klimadaten 🌡 📈\n",
        "\n",
        "Nachdem wir uns jetzt ein bisschen mit Python und Notebooks vertraut gemacht haben, wollen wir jetzt anfangen, einen Datensatz zu analysieren. Dafür müssen wir erst einmal ein paar Vorbereitungen treffen."
      ],
      "metadata": {
        "id": "j5Yw9kTYLL9i"
      }
    },
    {
      "cell_type": "markdown",
      "source": [
        "Zuerst müssen wir ein paar Tools von Python importieren, mit denen wir Daten analyisieren können. Besonders wichtig für Data Science ist das Paket `pandas`. Damit können wir Datensätzen einlesen, bearbeiten und Berechnungen durchführen.\n",
        "Für Visualisierung benötigen wir noch die Pakete `matplotlib` und `plotly`. Um die Namen dieser Pakete nicht immer ausschreiben zu müssen, ist es üblich, Abkürzungen dafür zu benutzen.\n",
        "\n",
        "\n",
        "Führe dazu den folgenden Code einmal aus."
      ],
      "metadata": {
        "id": "aD6jzxYt-jep"
      }
    },
    {
      "cell_type": "code",
      "source": [
        "import numpy as np\n",
        "import pandas as pd\n",
        "import matplotlib.pyplot as plt\n",
        "from sklearn.linear_model import LinearRegression\n",
        "!pip install gdown\n",
        "import gdown"
      ],
      "metadata": {
        "id": "7OJRhN9dDnBj",
        "colab": {
          "base_uri": "https://localhost:8080/"
        },
        "outputId": "63b34328-24d7-424b-b11e-13bb4e95f94b"
      },
      "execution_count": null,
      "outputs": [
        {
          "output_type": "stream",
          "name": "stdout",
          "text": [
            "Looking in indexes: https://pypi.org/simple, https://us-python.pkg.dev/colab-wheels/public/simple/\n",
            "Requirement already satisfied: gdown in /usr/local/lib/python3.10/dist-packages (4.6.6)\n",
            "Requirement already satisfied: filelock in /usr/local/lib/python3.10/dist-packages (from gdown) (3.12.0)\n",
            "Requirement already satisfied: requests[socks] in /usr/local/lib/python3.10/dist-packages (from gdown) (2.27.1)\n",
            "Requirement already satisfied: six in /usr/local/lib/python3.10/dist-packages (from gdown) (1.16.0)\n",
            "Requirement already satisfied: tqdm in /usr/local/lib/python3.10/dist-packages (from gdown) (4.65.0)\n",
            "Requirement already satisfied: beautifulsoup4 in /usr/local/lib/python3.10/dist-packages (from gdown) (4.11.2)\n",
            "Requirement already satisfied: soupsieve>1.2 in /usr/local/lib/python3.10/dist-packages (from beautifulsoup4->gdown) (2.4.1)\n",
            "Requirement already satisfied: urllib3<1.27,>=1.21.1 in /usr/local/lib/python3.10/dist-packages (from requests[socks]->gdown) (1.26.15)\n",
            "Requirement already satisfied: certifi>=2017.4.17 in /usr/local/lib/python3.10/dist-packages (from requests[socks]->gdown) (2022.12.7)\n",
            "Requirement already satisfied: charset-normalizer~=2.0.0 in /usr/local/lib/python3.10/dist-packages (from requests[socks]->gdown) (2.0.12)\n",
            "Requirement already satisfied: idna<4,>=2.5 in /usr/local/lib/python3.10/dist-packages (from requests[socks]->gdown) (3.4)\n",
            "Requirement already satisfied: PySocks!=1.5.7,>=1.5.6 in /usr/local/lib/python3.10/dist-packages (from requests[socks]->gdown) (1.7.1)\n"
          ]
        }
      ]
    },
    {
      "cell_type": "markdown",
      "source": [
        "Hier laden wir unseren Datensatz herunter, mit dem wir heute arbeiten, und lesen die Daten ein. Der Datensatz stammt übrigens vom Berkeley Earth Surface Temperature-Projekt („BEST“).\n",
        "\n",
        "Auch diesen Code müssen wir einmal ausführen."
      ],
      "metadata": {
        "id": "RGzN8Ls_ci7b"
      }
    },
    {
      "cell_type": "code",
      "source": [
        "# Lade die Daten herunter (von einem Google Drive)\n",
        "file = 'yearly_global_temperature.csv'\n",
        "filelink = 'https://drive.google.com/uc?id=1-f20UDGQbDpYOElV7_l83vE6tuDhYTQP'\n",
        "gdown.download(filelink, file)\n",
        "# Lese die Daten ein\n",
        "yearly_global_temperatures = pd.read_csv(file)"
      ],
      "metadata": {
        "colab": {
          "base_uri": "https://localhost:8080/"
        },
        "id": "E1SUS84IcsvD",
        "outputId": "9cac2d2d-e3f4-4c35-876c-70b183d76282"
      },
      "execution_count": null,
      "outputs": [
        {
          "output_type": "stream",
          "name": "stderr",
          "text": [
            "Downloading...\n",
            "From: https://drive.google.com/uc?id=1-f20UDGQbDpYOElV7_l83vE6tuDhYTQP\n",
            "To: /content/yearly_global_temperature.csv\n",
            "100%|██████████| 23.8k/23.8k [00:00<00:00, 41.0MB/s]\n"
          ]
        }
      ]
    },
    {
      "cell_type": "markdown",
      "source": [
        "Jetzt schauen wir uns die Daten an. Diese sind in einem `DataFrame` gespeichert, der wie eine Tabelle funktioniert. Welche Werte wurden gemessen und in welchen Spalten enthalten sind sie enthalten? In welchem Zeitraum wurden die Temperaturen gemessen?"
      ],
      "metadata": {
        "id": "fQzt36GTef6z"
      }
    },
    {
      "cell_type": "code",
      "source": [
        "yearly_global_temperatures"
      ],
      "metadata": {
        "id": "VLiQD2XMeI3Y",
        "colab": {
          "base_uri": "https://localhost:8080/",
          "height": 483
        },
        "outputId": "cd441c00-400a-42bc-8742-f82cea6f3552"
      },
      "execution_count": null,
      "outputs": [
        {
          "output_type": "execute_result",
          "data": {
            "text/plain": [
              "     Date  LandAverageTemperature  LandAverageTemperatureUncertainty  \\\n",
              "0    1850                7.900667                           0.876417   \n",
              "1    1851                8.178583                           0.881917   \n",
              "2    1852                8.100167                           0.918250   \n",
              "3    1853                8.041833                           0.835000   \n",
              "4    1854                8.210500                           0.825667   \n",
              "..    ...                     ...                                ...   \n",
              "161  2011                9.516000                           0.082000   \n",
              "162  2012                9.507333                           0.083417   \n",
              "163  2013                9.606500                           0.097667   \n",
              "164  2014                9.570667                           0.090167   \n",
              "165  2015                9.831000                           0.092167   \n",
              "\n",
              "     LandMaxTemperature  LandMaxTemperatureUncertainty  LandMinTemperature  \\\n",
              "0             13.476667                       2.394833            1.964333   \n",
              "1             13.081000                       2.397250            2.203917   \n",
              "2             13.397333                       2.619250            2.337000   \n",
              "3             13.886583                       2.095083            1.892500   \n",
              "4             13.977417                       1.783333            1.762167   \n",
              "..                  ...                            ...                 ...   \n",
              "161           15.284833                       0.114333            3.827667   \n",
              "162           15.332833                       0.107333            3.756167   \n",
              "163           15.373833                       0.115500            3.911333   \n",
              "164           15.313583                       0.111667            3.877750   \n",
              "165           15.572667                       0.106500            4.148833   \n",
              "\n",
              "     LandMinTemperatureUncertainty  LandAndOceanAverageTemperature  \\\n",
              "0                         1.571167                       14.867167   \n",
              "1                         1.632417                       14.991833   \n",
              "2                         1.382917                       15.006500   \n",
              "3                         1.355583                       14.955167   \n",
              "4                         1.357000                       14.991000   \n",
              "..                             ...                             ...   \n",
              "161                       0.136583                       15.769500   \n",
              "162                       0.145333                       15.802333   \n",
              "163                       0.149833                       15.854417   \n",
              "164                       0.139000                       15.913000   \n",
              "165                       0.141750                       16.058583   \n",
              "\n",
              "     LandAndOceanAverageTemperatureUncertainty  \n",
              "0                                     0.308167  \n",
              "1                                     0.312083  \n",
              "2                                     0.316417  \n",
              "3                                     0.283833  \n",
              "4                                     0.276417  \n",
              "..                                         ...  \n",
              "161                                   0.059000  \n",
              "162                                   0.061500  \n",
              "163                                   0.064667  \n",
              "164                                   0.063167  \n",
              "165                                   0.060833  \n",
              "\n",
              "[166 rows x 9 columns]"
            ],
            "text/html": [
              "\n",
              "  <div id=\"df-623daf3e-577c-4a93-bf5f-e54e3d121938\">\n",
              "    <div class=\"colab-df-container\">\n",
              "      <div>\n",
              "<style scoped>\n",
              "    .dataframe tbody tr th:only-of-type {\n",
              "        vertical-align: middle;\n",
              "    }\n",
              "\n",
              "    .dataframe tbody tr th {\n",
              "        vertical-align: top;\n",
              "    }\n",
              "\n",
              "    .dataframe thead th {\n",
              "        text-align: right;\n",
              "    }\n",
              "</style>\n",
              "<table border=\"1\" class=\"dataframe\">\n",
              "  <thead>\n",
              "    <tr style=\"text-align: right;\">\n",
              "      <th></th>\n",
              "      <th>Date</th>\n",
              "      <th>LandAverageTemperature</th>\n",
              "      <th>LandAverageTemperatureUncertainty</th>\n",
              "      <th>LandMaxTemperature</th>\n",
              "      <th>LandMaxTemperatureUncertainty</th>\n",
              "      <th>LandMinTemperature</th>\n",
              "      <th>LandMinTemperatureUncertainty</th>\n",
              "      <th>LandAndOceanAverageTemperature</th>\n",
              "      <th>LandAndOceanAverageTemperatureUncertainty</th>\n",
              "    </tr>\n",
              "  </thead>\n",
              "  <tbody>\n",
              "    <tr>\n",
              "      <th>0</th>\n",
              "      <td>1850</td>\n",
              "      <td>7.900667</td>\n",
              "      <td>0.876417</td>\n",
              "      <td>13.476667</td>\n",
              "      <td>2.394833</td>\n",
              "      <td>1.964333</td>\n",
              "      <td>1.571167</td>\n",
              "      <td>14.867167</td>\n",
              "      <td>0.308167</td>\n",
              "    </tr>\n",
              "    <tr>\n",
              "      <th>1</th>\n",
              "      <td>1851</td>\n",
              "      <td>8.178583</td>\n",
              "      <td>0.881917</td>\n",
              "      <td>13.081000</td>\n",
              "      <td>2.397250</td>\n",
              "      <td>2.203917</td>\n",
              "      <td>1.632417</td>\n",
              "      <td>14.991833</td>\n",
              "      <td>0.312083</td>\n",
              "    </tr>\n",
              "    <tr>\n",
              "      <th>2</th>\n",
              "      <td>1852</td>\n",
              "      <td>8.100167</td>\n",
              "      <td>0.918250</td>\n",
              "      <td>13.397333</td>\n",
              "      <td>2.619250</td>\n",
              "      <td>2.337000</td>\n",
              "      <td>1.382917</td>\n",
              "      <td>15.006500</td>\n",
              "      <td>0.316417</td>\n",
              "    </tr>\n",
              "    <tr>\n",
              "      <th>3</th>\n",
              "      <td>1853</td>\n",
              "      <td>8.041833</td>\n",
              "      <td>0.835000</td>\n",
              "      <td>13.886583</td>\n",
              "      <td>2.095083</td>\n",
              "      <td>1.892500</td>\n",
              "      <td>1.355583</td>\n",
              "      <td>14.955167</td>\n",
              "      <td>0.283833</td>\n",
              "    </tr>\n",
              "    <tr>\n",
              "      <th>4</th>\n",
              "      <td>1854</td>\n",
              "      <td>8.210500</td>\n",
              "      <td>0.825667</td>\n",
              "      <td>13.977417</td>\n",
              "      <td>1.783333</td>\n",
              "      <td>1.762167</td>\n",
              "      <td>1.357000</td>\n",
              "      <td>14.991000</td>\n",
              "      <td>0.276417</td>\n",
              "    </tr>\n",
              "    <tr>\n",
              "      <th>...</th>\n",
              "      <td>...</td>\n",
              "      <td>...</td>\n",
              "      <td>...</td>\n",
              "      <td>...</td>\n",
              "      <td>...</td>\n",
              "      <td>...</td>\n",
              "      <td>...</td>\n",
              "      <td>...</td>\n",
              "      <td>...</td>\n",
              "    </tr>\n",
              "    <tr>\n",
              "      <th>161</th>\n",
              "      <td>2011</td>\n",
              "      <td>9.516000</td>\n",
              "      <td>0.082000</td>\n",
              "      <td>15.284833</td>\n",
              "      <td>0.114333</td>\n",
              "      <td>3.827667</td>\n",
              "      <td>0.136583</td>\n",
              "      <td>15.769500</td>\n",
              "      <td>0.059000</td>\n",
              "    </tr>\n",
              "    <tr>\n",
              "      <th>162</th>\n",
              "      <td>2012</td>\n",
              "      <td>9.507333</td>\n",
              "      <td>0.083417</td>\n",
              "      <td>15.332833</td>\n",
              "      <td>0.107333</td>\n",
              "      <td>3.756167</td>\n",
              "      <td>0.145333</td>\n",
              "      <td>15.802333</td>\n",
              "      <td>0.061500</td>\n",
              "    </tr>\n",
              "    <tr>\n",
              "      <th>163</th>\n",
              "      <td>2013</td>\n",
              "      <td>9.606500</td>\n",
              "      <td>0.097667</td>\n",
              "      <td>15.373833</td>\n",
              "      <td>0.115500</td>\n",
              "      <td>3.911333</td>\n",
              "      <td>0.149833</td>\n",
              "      <td>15.854417</td>\n",
              "      <td>0.064667</td>\n",
              "    </tr>\n",
              "    <tr>\n",
              "      <th>164</th>\n",
              "      <td>2014</td>\n",
              "      <td>9.570667</td>\n",
              "      <td>0.090167</td>\n",
              "      <td>15.313583</td>\n",
              "      <td>0.111667</td>\n",
              "      <td>3.877750</td>\n",
              "      <td>0.139000</td>\n",
              "      <td>15.913000</td>\n",
              "      <td>0.063167</td>\n",
              "    </tr>\n",
              "    <tr>\n",
              "      <th>165</th>\n",
              "      <td>2015</td>\n",
              "      <td>9.831000</td>\n",
              "      <td>0.092167</td>\n",
              "      <td>15.572667</td>\n",
              "      <td>0.106500</td>\n",
              "      <td>4.148833</td>\n",
              "      <td>0.141750</td>\n",
              "      <td>16.058583</td>\n",
              "      <td>0.060833</td>\n",
              "    </tr>\n",
              "  </tbody>\n",
              "</table>\n",
              "<p>166 rows × 9 columns</p>\n",
              "</div>\n",
              "      <button class=\"colab-df-convert\" onclick=\"convertToInteractive('df-623daf3e-577c-4a93-bf5f-e54e3d121938')\"\n",
              "              title=\"Convert this dataframe to an interactive table.\"\n",
              "              style=\"display:none;\">\n",
              "        \n",
              "  <svg xmlns=\"http://www.w3.org/2000/svg\" height=\"24px\"viewBox=\"0 0 24 24\"\n",
              "       width=\"24px\">\n",
              "    <path d=\"M0 0h24v24H0V0z\" fill=\"none\"/>\n",
              "    <path d=\"M18.56 5.44l.94 2.06.94-2.06 2.06-.94-2.06-.94-.94-2.06-.94 2.06-2.06.94zm-11 1L8.5 8.5l.94-2.06 2.06-.94-2.06-.94L8.5 2.5l-.94 2.06-2.06.94zm10 10l.94 2.06.94-2.06 2.06-.94-2.06-.94-.94-2.06-.94 2.06-2.06.94z\"/><path d=\"M17.41 7.96l-1.37-1.37c-.4-.4-.92-.59-1.43-.59-.52 0-1.04.2-1.43.59L10.3 9.45l-7.72 7.72c-.78.78-.78 2.05 0 2.83L4 21.41c.39.39.9.59 1.41.59.51 0 1.02-.2 1.41-.59l7.78-7.78 2.81-2.81c.8-.78.8-2.07 0-2.86zM5.41 20L4 18.59l7.72-7.72 1.47 1.35L5.41 20z\"/>\n",
              "  </svg>\n",
              "      </button>\n",
              "      \n",
              "  <style>\n",
              "    .colab-df-container {\n",
              "      display:flex;\n",
              "      flex-wrap:wrap;\n",
              "      gap: 12px;\n",
              "    }\n",
              "\n",
              "    .colab-df-convert {\n",
              "      background-color: #E8F0FE;\n",
              "      border: none;\n",
              "      border-radius: 50%;\n",
              "      cursor: pointer;\n",
              "      display: none;\n",
              "      fill: #1967D2;\n",
              "      height: 32px;\n",
              "      padding: 0 0 0 0;\n",
              "      width: 32px;\n",
              "    }\n",
              "\n",
              "    .colab-df-convert:hover {\n",
              "      background-color: #E2EBFA;\n",
              "      box-shadow: 0px 1px 2px rgba(60, 64, 67, 0.3), 0px 1px 3px 1px rgba(60, 64, 67, 0.15);\n",
              "      fill: #174EA6;\n",
              "    }\n",
              "\n",
              "    [theme=dark] .colab-df-convert {\n",
              "      background-color: #3B4455;\n",
              "      fill: #D2E3FC;\n",
              "    }\n",
              "\n",
              "    [theme=dark] .colab-df-convert:hover {\n",
              "      background-color: #434B5C;\n",
              "      box-shadow: 0px 1px 3px 1px rgba(0, 0, 0, 0.15);\n",
              "      filter: drop-shadow(0px 1px 2px rgba(0, 0, 0, 0.3));\n",
              "      fill: #FFFFFF;\n",
              "    }\n",
              "  </style>\n",
              "\n",
              "      <script>\n",
              "        const buttonEl =\n",
              "          document.querySelector('#df-623daf3e-577c-4a93-bf5f-e54e3d121938 button.colab-df-convert');\n",
              "        buttonEl.style.display =\n",
              "          google.colab.kernel.accessAllowed ? 'block' : 'none';\n",
              "\n",
              "        async function convertToInteractive(key) {\n",
              "          const element = document.querySelector('#df-623daf3e-577c-4a93-bf5f-e54e3d121938');\n",
              "          const dataTable =\n",
              "            await google.colab.kernel.invokeFunction('convertToInteractive',\n",
              "                                                     [key], {});\n",
              "          if (!dataTable) return;\n",
              "\n",
              "          const docLinkHtml = 'Like what you see? Visit the ' +\n",
              "            '<a target=\"_blank\" href=https://colab.research.google.com/notebooks/data_table.ipynb>data table notebook</a>'\n",
              "            + ' to learn more about interactive tables.';\n",
              "          element.innerHTML = '';\n",
              "          dataTable['output_type'] = 'display_data';\n",
              "          await google.colab.output.renderOutput(dataTable, element);\n",
              "          const docLink = document.createElement('div');\n",
              "          docLink.innerHTML = docLinkHtml;\n",
              "          element.appendChild(docLink);\n",
              "        }\n",
              "      </script>\n",
              "    </div>\n",
              "  </div>\n",
              "  "
            ]
          },
          "metadata": {},
          "execution_count": 8
        }
      ]
    },
    {
      "cell_type": "markdown",
      "source": [
        "**Minimum, Maximum und Durchschnitt**\n",
        "\n",
        "Diesen Datensatz wollen wir etwas genauer unter die Lupe nehmen. Wir beschränken uns dafür auf die ersten beiden Spalten: Die Jahreszahlen und die an Land gemessenen Durchschnittstemperaturen. Die Spalten des `DataFrames` heißen auch `Series`. Wir können sie folgendermaßen aus dem Datensatz extrahieren:"
      ],
      "metadata": {
        "id": "2Fo5fd6vgN9-"
      }
    },
    {
      "cell_type": "code",
      "source": [
        "yearly_global_temperatures.set_index(\"Date\", inplace=True)\n",
        "Jahre = yearly_global_temperatures.index\n",
        "temperaturen_global = yearly_global_temperatures['LandAverageTemperature']\n",
        "\n",
        "temperaturen_global"
      ],
      "metadata": {
        "id": "xoD7ze2mgO-1",
        "outputId": "66541074-eb40-43d3-dcb4-3ba632b40e78",
        "colab": {
          "base_uri": "https://localhost:8080/"
        }
      },
      "execution_count": null,
      "outputs": [
        {
          "output_type": "execute_result",
          "data": {
            "text/plain": [
              "Date\n",
              "1850    7.900667\n",
              "1851    8.178583\n",
              "1852    8.100167\n",
              "1853    8.041833\n",
              "1854    8.210500\n",
              "          ...   \n",
              "2011    9.516000\n",
              "2012    9.507333\n",
              "2013    9.606500\n",
              "2014    9.570667\n",
              "2015    9.831000\n",
              "Name: LandAverageTemperature, Length: 166, dtype: float64"
            ]
          },
          "metadata": {},
          "execution_count": 9
        }
      ]
    },
    {
      "cell_type": "markdown",
      "source": [
        "Jetz fangen wir an, die Daten zu analysieren. Dafür bestimmen wir erst einmal einfache statistische Werte, wie den größten und kleinsten Wert sowie den Durchschnittswert.\n",
        "\n",
        "\n",
        "<font color='sky blue'>__Aufgabe:__  <br>\n",
        "Versuche folgende Fragen zu beantworten:\n",
        "*   Wie hoch war die jährliche Durchschnittstemperatur an Land im heißesten Jahr zwischen 1850 und 2015? Wie war hoch war sie im kältesten Jahr?\n",
        "*   Welches Jahr war das heißeste und welches das kälteste Jahr zwischen 1850 und 2015?\n",
        "*   Was war der Durchschnitt  aller Temperaturen von 1850 bis 2015?\n",
        "\n",
        "Tipp: Auf deinem Cheat Sheet findest du ein Beispiel mit den entsprechenden Befehlen!\n",
        "</font>"
      ],
      "metadata": {
        "id": "PXt2TEWHg5eh"
      }
    },
    {
      "cell_type": "code",
      "source": [
        "# Dein Code hier...\n",
        "\n",
        "# maximale jährliche Durchschnittstemperatur\n",
        "max_temperatur = temperaturen_global.max()\n",
        "# Lösung: 9.830999999999998 Grad\n",
        "\n",
        "# minimale jährliche Durchschnittstemperatur\n",
        "min_temperatur = temperaturen_global.min()\n",
        "# Lösung: 7.558583333333334 Grad\n",
        "\n",
        "\n",
        "# Jahr mit maximaler Durchnittstemperatur\n",
        "temperaturen_global.idxmax()\n",
        "# Lösung: 2015\n",
        "\n",
        "# Jahr mit minimaler Durchnittstemperatur\n",
        "temperaturen_global.idxmin()\n",
        "# Lösung: 1862\n",
        "\n",
        "\n",
        "# Durchschnitt der Temperaturen  von 1850 bis 2015:\n",
        "temperaturen_global.mean()\n",
        "# Lösung: 8.5715828313253 Grad"
      ],
      "metadata": {
        "id": "en4Q0rInkc8o"
      },
      "execution_count": null,
      "outputs": []
    },
    {
      "cell_type": "markdown",
      "source": [
        "**Grafiken erstellen**\n",
        "\n",
        "Nur mit Minimum, Maximum und Durchschnitt können wir noch nicht so viel\n",
        "anfangen. Nun wollen wir unsere Daten visualisieren.\n",
        "\n",
        "<font color='sky blue'>__Aufgabe:__  <br>\n",
        "Erstelle ein Liniendiagramm, das den Verlauf der Temperaturen über die Jahre darstellt.\n",
        "\n",
        "Tipp: Auf deinem Cheat Sheet findest du wieder ein Beispiel mit den entsprechenden Befehlen!\n",
        "</font>"
      ],
      "metadata": {
        "id": "GI7_mtC5kn0_"
      }
    },
    {
      "cell_type": "code",
      "source": [
        "# Der Begriff plt.plot(x,y) erstellt einen Graphen der Werte x und y\n",
        "plt.plot(Jahre, temperaturen_global)\n",
        "# Um den Plot anzeigen zu lassen, verwenden wir plt.show()\n",
        "plt.show()"
      ],
      "metadata": {
        "id": "nhe_Pwt1g80Z",
        "outputId": "79d57d6a-d7c7-4baf-c988-99fe42a38eb0",
        "colab": {
          "base_uri": "https://localhost:8080/",
          "height": 430
        }
      },
      "execution_count": null,
      "outputs": [
        {
          "output_type": "display_data",
          "data": {
            "text/plain": [
              "<Figure size 640x480 with 1 Axes>"
            ],
            "image/png": "[encoded data removed]"
          },
          "metadata": {}
        }
      ]
    },
    {
      "cell_type": "markdown",
      "source": [
        "Nun können wir den Plot noch etwas verschönern, indem wir z.B. eine Überschrift\n",
        "und Achsenbeschriftungen hinzufügen. Außerdem können wir auch die Farbe und den\n",
        "Style der Linie ändern.\n",
        "\n",
        "\n",
        "\n",
        "<font color='sky blue'>__Aufgabe:__  <br>\n",
        "\n",
        "*   Füge einen Titel zu deiner Grafik hinzu.\n",
        "*   Füge Beschriftungen für die x- und y-Achse hinzu.\n",
        "*   Ändere die Farbe der Linie zu orange.\n",
        "*   Probiere weitere Farben und Linienarten aus.\n",
        "\n",
        "Tipp: Auf deinem Cheat Sheet findest du wieder ein Beispiel mit den entsprechenden Befehlen!\n",
        "</font>"
      ],
      "metadata": {
        "id": "tlPxy04jlGvh"
      }
    },
    {
      "cell_type": "code",
      "source": [
        "# Dein Code hier...\n",
        "\n",
        "#Lösung:\n",
        "\n",
        "plt.plot(Jahre, temperaturen_global, color = 'orange', linestyle = 'solid')\n",
        "plt.title('Globale Durchschnittstemperatur auf dem Land von 1850-2015 in °C')\n",
        "plt.xlabel('Jahre')\n",
        "plt.ylabel('Durchschnittstemperaturen')\n",
        "plt.show()"
      ],
      "metadata": {
        "id": "7M8GTRPliI2_",
        "outputId": "d3a26733-dead-4488-be66-0c7f0d6db97a",
        "colab": {
          "base_uri": "https://localhost:8080/",
          "height": 472
        }
      },
      "execution_count": null,
      "outputs": [
        {
          "output_type": "display_data",
          "data": {
            "text/plain": [
              "<Figure size 640x480 with 1 Axes>"
            ],
            "image/png": "[encoded data removed]"
          },
          "metadata": {}
        }
      ]
    },
    {
      "cell_type": "markdown",
      "source": [
        "Sehr schön! Man kann klar erkennen, dass die Temperatur seit 1850 deutlich angestiegen ist, also bestätigen unsere Daten eigentlich genau das, was wir aus der Schule oder den Medien schon wissen."
      ],
      "metadata": {
        "id": "Av5y411kQTaC"
      }
    },
    {
      "cell_type": "markdown",
      "source": [
        "**Vorhersagen machen**\n",
        "\n",
        "\n",
        "Das eigentlich coole an Data Science ist, aus den Daten etwas ableiten zu\n",
        "können und Vorhersagungen zu machen. In unserem Beispiel wollen wir z.B.\n",
        "vorhersagen, wie hoch die globale Durchschnittstemperatur in der Zukunft sein\n",
        "wird (falls wir den CO2-Ausstoß nicht reduzieren).\n",
        "Hierzu nutzen wir ein sehr einfaches Modell und nehmen an, dass die Temperatur\n",
        "ab 1850 linear ansteigt, d.h. wir versuchen die \"beste\" Gerade durch die\n",
        "verschiedenen Datenpunkte zu ziehen. Das kennt ihr vielleicht aus dem\n",
        "Physikunterricht. Diese Methode nennt man auch \"Lineare Regression\".\n",
        "Ein einfaches Beispiel zur Veranschaulichung findest du hier:\n",
        "\n",
        "![image.png](data:image/png;base64,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)"
      ],
      "metadata": {
        "id": "HoFg0iA_lfnz"
      }
    },
    {
      "cell_type": "markdown",
      "source": [
        "\n",
        "\n",
        " <font color='sky blue'>__Aufgabe:__  <br>\n",
        "Erstelle das lineare Regressionsmodell für unsere Daten!\n",
        "\n",
        "Tipp: Wie immer findest du ein entsprechendes Beispiel auf deinem Cheat Sheet.\n",
        "</font>"
      ],
      "metadata": {
        "id": "fBR18yqeE7rU"
      }
    },
    {
      "cell_type": "code",
      "source": [
        "# Dein Code hier...\n",
        "\n",
        "\n",
        "# Lösung:\n",
        "\n",
        "# 1)  hier treffen wir einige Vorbereitungen\n",
        "X = Jahre.array.reshape(-1, 1)\n",
        "y = temperaturen_global.array.reshape(-1, 1)\n",
        "\n",
        "# 2) Erstelle das lineare Modell\n",
        "reg = LinearRegression()\n",
        "\n",
        "# 3) Lasse das Model die Rechnungen ausführen, um das Model zu erstellen\n",
        "reg.fit(X, y)\n",
        "\n",
        "# 4) Berechne Vorhersagewerte anhand des Models\n",
        "model = reg.predict(X)"
      ],
      "metadata": {
        "id": "lr3jUiyjl-By"
      },
      "execution_count": null,
      "outputs": []
    },
    {
      "cell_type": "markdown",
      "source": [
        "\n",
        "\n",
        "\n",
        " <font color='sky blue'>__Aufgabe:__  <br>\n",
        "\n",
        "*   Füge die \"beste Gerade\", d.h. die \"vorhergesagten Werte\" in\n",
        "deine Grafik\n",
        "      von vorhin hinzu. Hier kannst du auch wieder nach Belieben die Linienart\n",
        "      und -farbe anpassen.\n",
        "*   Sage die globale Durchschnittstemperatur (laut unserem Modell) für die\n",
        "      Jahre 2030 und 2050 vorher.\n",
        "\n",
        "*   Das 2-Grad-Ziel bezieht sich auf einen Temperaturanstieg im Vergleich\n",
        "      zum vorindustriellen Zeitalter (bis ca. 1850). In welchem Jahr wird das\n",
        "      2-Grad-Ziel nach unserem Modell überschritten?\n",
        "      Tipp: Berechne zuerst die \"Vorhersage\" unseres Modells für 1850 (wie eben).\n",
        "      Somit kannst du ganz einfach sehen, welcher Wert nicht überschritten werden darf.\n",
        "\n",
        "\n",
        "</font>\n"
      ],
      "metadata": {
        "id": "7QHH1bwql8_c"
      }
    },
    {
      "cell_type": "code",
      "source": [
        "# Dein Code hier\n",
        "\n",
        "# Lösung Plot\n",
        "plt.plot(Jahre, temperaturen_global, color = \"orange\")\n",
        "plt.plot(Jahre, model, color = \"grey\", linestyle = \"dotted\")\n",
        "plt.title(' Globale Durchschnittstemperatur auf dem Land von 1850-2015 in °C')\n",
        "plt.xlabel('Jahre')\n",
        "plt.ylabel('Durchschnittstemperaturen')\n",
        "plt.show()"
      ],
      "metadata": {
        "colab": {
          "base_uri": "https://localhost:8080/",
          "height": 472
        },
        "id": "g1jl960dnbiH",
        "outputId": "9d672809-e24e-4eda-a26e-e8d3996a8e50"
      },
      "execution_count": null,
      "outputs": [
        {
          "output_type": "display_data",
          "data": {
            "text/plain": [
              "<Figure size 640x480 with 1 Axes>"
            ],
            "image/png": "[encoded data removed]"
          },
          "metadata": {}
        }
      ]
    },
    {
      "cell_type": "code",
      "source": [
        "# Dein Code hier....\n",
        "\n",
        "# Lösung Vorhersage\n",
        "Jahr = 2084 # gebe hier das Jahr ein, für das du die Temperatur vorhersagen willst\n",
        "jahr = [[Jahr]] # oder np.array([[Jahr]])\n",
        "reg.predict(jahr)\n",
        "\n",
        "# 2030: 9.40340929 Grad\n",
        "# 2050: 9.57404036 Grad\n",
        "\n",
        "# 1850: 7.86772967 Grad -> die Grenze ist 7.86772967 + 2 = 9.86772967 Grad\n",
        "# durch Ausprobieren: im Jahr 2085 wird das 2-Grad-Ziel überschritten\n",
        "# 2085: 9.87264473 Grad\n",
        "# das kann man auch anders lösen, aber wir wollen es nicht zu kompliziert machen ;)\n"
      ],
      "metadata": {
        "colab": {
          "base_uri": "https://localhost:8080/"
        },
        "id": "79hsjhqOn7Ib",
        "outputId": "be8ae0a4-0edd-488d-b1e7-4f9f11aaf5c7"
      },
      "execution_count": null,
      "outputs": [
        {
          "output_type": "execute_result",
          "data": {
            "text/plain": [
              "array([[9.86411318]])"
            ]
          },
          "metadata": {},
          "execution_count": 13
        }
      ]
    },
    {
      "cell_type": "markdown",
      "source": [
        "Bei diesem Ergebnis kann man sich natürlich einige Fragen stellen:\n",
        "- Ist es realistisch, dass die 2 Grad in diesem Jahr erreicht werden?\n",
        "- Welche Annahmen haben wir gemacht um dieses Jahr zu berechnen, und warum könnten diese falsch sein?\n",
        "- Wie könnten wir unser Modell verbessern?"
      ],
      "metadata": {
        "id": "I3IeseqYnrD2"
      }
    },
    {
      "cell_type": "markdown",
      "source": [
        "**Korrelationen**\n",
        "\n",
        "Der Anstieg von Temperaturen ist nur eine Folge des Klimawandels. Wir wollen jetzt statistische Zusammenhänge zwischen verschiedenen Größen untersuchen. Hier kommt die Korrelation ins Spiel!\n",
        "\n",
        "Die Korrelation zwischen zwei Größen ist eine Zahl zwischen -1 und 1 und gibt an, wie stark ihr linearer Zusammenhang ist. Je näher die Zahl bei 1 liegt, desto stärker ist der Zusammenhang. Anschaulich bedeutet das, dass man wie in vorangegangenen Beispiel eine \"gute\" Gerade durch die Datenpunkte zeichnen kann.\n",
        "\n",
        "Korrelation darf allerdings nicht mit Kausalität (Ursache-Wirkungs-Beziehung) verwechselt werden! Eine starke Korrelation kann zwar darauf hindeuten, dass ein kausaler Zusammenhang besteht, ob und in welche Richtung geht allerdings nicht daraus hervor. Ein kleines Beispiel: Statistische Daten über Jahrzehnte hinweg zeigen eine eindeutige positive Korrelation zwischen der Storchenpopulation und der menschlichen Geburtenrate. Trotzdem gibt es keinen offensichtlichen kausalen Zusammenhang.\n",
        "\n",
        "\n",
        "Wir benutzen nun einen neuen Datensatz. In diesem sind für die Jahre 1900 bis 2013 die Durchschnittstemperaturen an Land, die jährlichen CO2-Emissionen, der Meeresspeiegelanstieg, die Anzahl von Naturkatastrophen sowie die Weltbevölkerung zusammengetragen."
      ],
      "metadata": {
        "id": "o0ZE1Qu2ZBWg"
      }
    },
    {
      "cell_type": "code",
      "source": [
        "# Lade den neuen Datensatz herunter\n",
        "file = 'klimadaten.csv'\n",
        "filelink = 'https://drive.google.com/uc?id=17_uNRMgcDjPPLyXeCXpOHHD7-UBLXQXf'\n",
        "# Lese die Daten ein\n",
        "gdown.download(filelink, file)\n",
        "klimadaten = pd.read_csv(file)\n",
        "klimadaten.rename( columns={'Unnamed: 0':'Jahre'}, inplace=True )\n",
        "klimadaten"
      ],
      "metadata": {
        "colab": {
          "base_uri": "https://localhost:8080/",
          "height": 487
        },
        "id": "rYDRbOdhZApF",
        "outputId": "f6b9e3eb-2acf-498f-b175-3f150d5d671c"
      },
      "execution_count": null,
      "outputs": [
        {
          "output_type": "stream",
          "name": "stderr",
          "text": [
            "Downloading...\n",
            "From: https://drive.google.com/uc?id=17_uNRMgcDjPPLyXeCXpOHHD7-UBLXQXf\n",
            "To: /content/klimadaten.csv\n",
            "100%|██████████| 7.56k/7.56k [00:00<00:00, 18.0MB/s]\n"
          ]
        },
        {
          "output_type": "execute_result",
          "data": {
            "text/plain": [
              "     Jahre  LandAverageTemperature  Annual CO₂ emissions  Sea Level  \\\n",
              "0     1900                8.501583          1.952210e+09   0.000000   \n",
              "1     1901                8.541917          2.016744e+09  -0.015748   \n",
              "2     1902                8.304417          2.067684e+09   0.165354   \n",
              "3     1903                8.220167          2.254095e+09   0.480315   \n",
              "4     1904                8.090917          2.279749e+09   0.074803   \n",
              "..     ...                     ...                   ...        ...   \n",
              "109   2009                9.505250          3.156403e+10   7.460630   \n",
              "110   2010                9.703083          3.336435e+10   7.775591   \n",
              "111   2011                9.516000          3.448701e+10   7.838583   \n",
              "112   2012                9.507333          3.500627e+10   8.200787   \n",
              "113   2013                9.606500          3.531920e+10   7.854331   \n",
              "\n",
              "     Number of natural disasters  World Population  \n",
              "0                              5      1.647405e+09  \n",
              "1                              2      1.658786e+09  \n",
              "2                              9      1.672564e+09  \n",
              "3                              8      1.687013e+09  \n",
              "4                              2      1.701647e+09  \n",
              "..                           ...               ...  \n",
              "109                          344      6.898306e+09  \n",
              "110                          393      6.985603e+09  \n",
              "111                          334      7.073125e+09  \n",
              "112                          346      7.161698e+09  \n",
              "113                          332      7.250593e+09  \n",
              "\n",
              "[114 rows x 6 columns]"
            ],
            "text/html": [
              "\n",
              "  <div id=\"df-2e81e1a3-244e-464c-bd38-5bb4da36efe1\">\n",
              "    <div class=\"colab-df-container\">\n",
              "      <div>\n",
              "<style scoped>\n",
              "    .dataframe tbody tr th:only-of-type {\n",
              "        vertical-align: middle;\n",
              "    }\n",
              "\n",
              "    .dataframe tbody tr th {\n",
              "        vertical-align: top;\n",
              "    }\n",
              "\n",
              "    .dataframe thead th {\n",
              "        text-align: right;\n",
              "    }\n",
              "</style>\n",
              "<table border=\"1\" class=\"dataframe\">\n",
              "  <thead>\n",
              "    <tr style=\"text-align: right;\">\n",
              "      <th></th>\n",
              "      <th>Jahre</th>\n",
              "      <th>LandAverageTemperature</th>\n",
              "      <th>Annual CO₂ emissions</th>\n",
              "      <th>Sea Level</th>\n",
              "      <th>Number of natural disasters</th>\n",
              "      <th>World Population</th>\n",
              "    </tr>\n",
              "  </thead>\n",
              "  <tbody>\n",
              "    <tr>\n",
              "      <th>0</th>\n",
              "      <td>1900</td>\n",
              "      <td>8.501583</td>\n",
              "      <td>1.952210e+09</td>\n",
              "      <td>0.000000</td>\n",
              "      <td>5</td>\n",
              "      <td>1.647405e+09</td>\n",
              "    </tr>\n",
              "    <tr>\n",
              "      <th>1</th>\n",
              "      <td>1901</td>\n",
              "      <td>8.541917</td>\n",
              "      <td>2.016744e+09</td>\n",
              "      <td>-0.015748</td>\n",
              "      <td>2</td>\n",
              "      <td>1.658786e+09</td>\n",
              "    </tr>\n",
              "    <tr>\n",
              "      <th>2</th>\n",
              "      <td>1902</td>\n",
              "      <td>8.304417</td>\n",
              "      <td>2.067684e+09</td>\n",
              "      <td>0.165354</td>\n",
              "      <td>9</td>\n",
              "      <td>1.672564e+09</td>\n",
              "    </tr>\n",
              "    <tr>\n",
              "      <th>3</th>\n",
              "      <td>1903</td>\n",
              "      <td>8.220167</td>\n",
              "      <td>2.254095e+09</td>\n",
              "      <td>0.480315</td>\n",
              "      <td>8</td>\n",
              "      <td>1.687013e+09</td>\n",
              "    </tr>\n",
              "    <tr>\n",
              "      <th>4</th>\n",
              "      <td>1904</td>\n",
              "      <td>8.090917</td>\n",
              "      <td>2.279749e+09</td>\n",
              "      <td>0.074803</td>\n",
              "      <td>2</td>\n",
              "      <td>1.701647e+09</td>\n",
              "    </tr>\n",
              "    <tr>\n",
              "      <th>...</th>\n",
              "      <td>...</td>\n",
              "      <td>...</td>\n",
              "      <td>...</td>\n",
              "      <td>...</td>\n",
              "      <td>...</td>\n",
              "      <td>...</td>\n",
              "    </tr>\n",
              "    <tr>\n",
              "      <th>109</th>\n",
              "      <td>2009</td>\n",
              "      <td>9.505250</td>\n",
              "      <td>3.156403e+10</td>\n",
              "      <td>7.460630</td>\n",
              "      <td>344</td>\n",
              "      <td>6.898306e+09</td>\n",
              "    </tr>\n",
              "    <tr>\n",
              "      <th>110</th>\n",
              "      <td>2010</td>\n",
              "      <td>9.703083</td>\n",
              "      <td>3.336435e+10</td>\n",
              "      <td>7.775591</td>\n",
              "      <td>393</td>\n",
              "      <td>6.985603e+09</td>\n",
              "    </tr>\n",
              "    <tr>\n",
              "      <th>111</th>\n",
              "      <td>2011</td>\n",
              "      <td>9.516000</td>\n",
              "      <td>3.448701e+10</td>\n",
              "      <td>7.838583</td>\n",
              "      <td>334</td>\n",
              "      <td>7.073125e+09</td>\n",
              "    </tr>\n",
              "    <tr>\n",
              "      <th>112</th>\n",
              "      <td>2012</td>\n",
              "      <td>9.507333</td>\n",
              "      <td>3.500627e+10</td>\n",
              "      <td>8.200787</td>\n",
              "      <td>346</td>\n",
              "      <td>7.161698e+09</td>\n",
              "    </tr>\n",
              "    <tr>\n",
              "      <th>113</th>\n",
              "      <td>2013</td>\n",
              "      <td>9.606500</td>\n",
              "      <td>3.531920e+10</td>\n",
              "      <td>7.854331</td>\n",
              "      <td>332</td>\n",
              "      <td>7.250593e+09</td>\n",
              "    </tr>\n",
              "  </tbody>\n",
              "</table>\n",
              "<p>114 rows × 6 columns</p>\n",
              "</div>\n",
              "      <button class=\"colab-df-convert\" onclick=\"convertToInteractive('df-2e81e1a3-244e-464c-bd38-5bb4da36efe1')\"\n",
              "              title=\"Convert this dataframe to an interactive table.\"\n",
              "              style=\"display:none;\">\n",
              "        \n",
              "  <svg xmlns=\"http://www.w3.org/2000/svg\" height=\"24px\"viewBox=\"0 0 24 24\"\n",
              "       width=\"24px\">\n",
              "    <path d=\"M0 0h24v24H0V0z\" fill=\"none\"/>\n",
              "    <path d=\"M18.56 5.44l.94 2.06.94-2.06 2.06-.94-2.06-.94-.94-2.06-.94 2.06-2.06.94zm-11 1L8.5 8.5l.94-2.06 2.06-.94-2.06-.94L8.5 2.5l-.94 2.06-2.06.94zm10 10l.94 2.06.94-2.06 2.06-.94-2.06-.94-.94-2.06-.94 2.06-2.06.94z\"/><path d=\"M17.41 7.96l-1.37-1.37c-.4-.4-.92-.59-1.43-.59-.52 0-1.04.2-1.43.59L10.3 9.45l-7.72 7.72c-.78.78-.78 2.05 0 2.83L4 21.41c.39.39.9.59 1.41.59.51 0 1.02-.2 1.41-.59l7.78-7.78 2.81-2.81c.8-.78.8-2.07 0-2.86zM5.41 20L4 18.59l7.72-7.72 1.47 1.35L5.41 20z\"/>\n",
              "  </svg>\n",
              "      </button>\n",
              "      \n",
              "  <style>\n",
              "    .colab-df-container {\n",
              "      display:flex;\n",
              "      flex-wrap:wrap;\n",
              "      gap: 12px;\n",
              "    }\n",
              "\n",
              "    .colab-df-convert {\n",
              "      background-color: #E8F0FE;\n",
              "      border: none;\n",
              "      border-radius: 50%;\n",
              "      cursor: pointer;\n",
              "      display: none;\n",
              "      fill: #1967D2;\n",
              "      height: 32px;\n",
              "      padding: 0 0 0 0;\n",
              "      width: 32px;\n",
              "    }\n",
              "\n",
              "    .colab-df-convert:hover {\n",
              "      background-color: #E2EBFA;\n",
              "      box-shadow: 0px 1px 2px rgba(60, 64, 67, 0.3), 0px 1px 3px 1px rgba(60, 64, 67, 0.15);\n",
              "      fill: #174EA6;\n",
              "    }\n",
              "\n",
              "    [theme=dark] .colab-df-convert {\n",
              "      background-color: #3B4455;\n",
              "      fill: #D2E3FC;\n",
              "    }\n",
              "\n",
              "    [theme=dark] .colab-df-convert:hover {\n",
              "      background-color: #434B5C;\n",
              "      box-shadow: 0px 1px 3px 1px rgba(0, 0, 0, 0.15);\n",
              "      filter: drop-shadow(0px 1px 2px rgba(0, 0, 0, 0.3));\n",
              "      fill: #FFFFFF;\n",
              "    }\n",
              "  </style>\n",
              "\n",
              "      <script>\n",
              "        const buttonEl =\n",
              "          document.querySelector('#df-2e81e1a3-244e-464c-bd38-5bb4da36efe1 button.colab-df-convert');\n",
              "        buttonEl.style.display =\n",
              "          google.colab.kernel.accessAllowed ? 'block' : 'none';\n",
              "\n",
              "        async function convertToInteractive(key) {\n",
              "          const element = document.querySelector('#df-2e81e1a3-244e-464c-bd38-5bb4da36efe1');\n",
              "          const dataTable =\n",
              "            await google.colab.kernel.invokeFunction('convertToInteractive',\n",
              "                                                     [key], {});\n",
              "          if (!dataTable) return;\n",
              "\n",
              "          const docLinkHtml = 'Like what you see? Visit the ' +\n",
              "            '<a target=\"_blank\" href=https://colab.research.google.com/notebooks/data_table.ipynb>data table notebook</a>'\n",
              "            + ' to learn more about interactive tables.';\n",
              "          element.innerHTML = '';\n",
              "          dataTable['output_type'] = 'display_data';\n",
              "          await google.colab.output.renderOutput(dataTable, element);\n",
              "          const docLink = document.createElement('div');\n",
              "          docLink.innerHTML = docLinkHtml;\n",
              "          element.appendChild(docLink);\n",
              "        }\n",
              "      </script>\n",
              "    </div>\n",
              "  </div>\n",
              "  "
            ]
          },
          "metadata": {},
          "execution_count": 14
        }
      ]
    },
    {
      "cell_type": "markdown",
      "source": [
        "<font color='sky blue'>__Aufgabe:__  <br>\n",
        "Bestimme die Korrelationen zwischen den Spalten des neuen Datensatzes! Zwischen welchen Größen sind die Zusammenhänge besonders stark und zwischen welchen nicht so sehr vorhanden? Woran kann das liegen?\n",
        "\n",
        "Tipp: Auf deinem Cheat Sheet findest du wieder ein Beispiel mit dem entsprechenden Befehl!\n",
        "</font>"
      ],
      "metadata": {
        "id": "bR07Js7HfQ6y"
      }
    },
    {
      "cell_type": "code",
      "source": [
        "# Lösung\n",
        "\n",
        "klimadaten.corr()"
      ],
      "metadata": {
        "colab": {
          "base_uri": "https://localhost:8080/",
          "height": 313
        },
        "id": "VI4nauqvdwBr",
        "outputId": "08a01346-b712-497f-fc52-5b043bc3e7bf"
      },
      "execution_count": null,
      "outputs": [
        {
          "output_type": "execute_result",
          "data": {
            "text/plain": [
              "                                Jahre  LandAverageTemperature  \\\n",
              "Jahre                        1.000000                0.839991   \n",
              "LandAverageTemperature       0.839991                1.000000   \n",
              "Annual CO₂ emissions         0.945997                0.845154   \n",
              "Sea Level                    0.984028                0.859977   \n",
              "Number of natural disasters  0.858474                0.870910   \n",
              "World Population             0.954593                0.869529   \n",
              "\n",
              "                             Annual CO₂ emissions  Sea Level  \\\n",
              "Jahre                                    0.945997   0.984028   \n",
              "LandAverageTemperature                   0.845154   0.859977   \n",
              "Annual CO₂ emissions                     1.000000   0.972788   \n",
              "Sea Level                                0.972788   1.000000   \n",
              "Number of natural disasters              0.940532   0.897252   \n",
              "World Population                         0.994266   0.976027   \n",
              "\n",
              "                             Number of natural disasters  World Population  \n",
              "Jahre                                           0.858474          0.954593  \n",
              "LandAverageTemperature                          0.870910          0.869529  \n",
              "Annual CO₂ emissions                            0.940532          0.994266  \n",
              "Sea Level                                       0.897252          0.976027  \n",
              "Number of natural disasters                     1.000000          0.956911  \n",
              "World Population                                0.956911          1.000000  "
            ],
            "text/html": [
              "\n",
              "  <div id=\"df-4883a62c-7b00-4323-a7f2-57a184f9aae8\">\n",
              "    <div class=\"colab-df-container\">\n",
              "      <div>\n",
              "<style scoped>\n",
              "    .dataframe tbody tr th:only-of-type {\n",
              "        vertical-align: middle;\n",
              "    }\n",
              "\n",
              "    .dataframe tbody tr th {\n",
              "        vertical-align: top;\n",
              "    }\n",
              "\n",
              "    .dataframe thead th {\n",
              "        text-align: right;\n",
              "    }\n",
              "</style>\n",
              "<table border=\"1\" class=\"dataframe\">\n",
              "  <thead>\n",
              "    <tr style=\"text-align: right;\">\n",
              "      <th></th>\n",
              "      <th>Jahre</th>\n",
              "      <th>LandAverageTemperature</th>\n",
              "      <th>Annual CO₂ emissions</th>\n",
              "      <th>Sea Level</th>\n",
              "      <th>Number of natural disasters</th>\n",
              "      <th>World Population</th>\n",
              "    </tr>\n",
              "  </thead>\n",
              "  <tbody>\n",
              "    <tr>\n",
              "      <th>Jahre</th>\n",
              "      <td>1.000000</td>\n",
              "      <td>0.839991</td>\n",
              "      <td>0.945997</td>\n",
              "      <td>0.984028</td>\n",
              "      <td>0.858474</td>\n",
              "      <td>0.954593</td>\n",
              "    </tr>\n",
              "    <tr>\n",
              "      <th>LandAverageTemperature</th>\n",
              "      <td>0.839991</td>\n",
              "      <td>1.000000</td>\n",
              "      <td>0.845154</td>\n",
              "      <td>0.859977</td>\n",
              "      <td>0.870910</td>\n",
              "      <td>0.869529</td>\n",
              "    </tr>\n",
              "    <tr>\n",
              "      <th>Annual CO₂ emissions</th>\n",
              "      <td>0.945997</td>\n",
              "      <td>0.845154</td>\n",
              "      <td>1.000000</td>\n",
              "      <td>0.972788</td>\n",
              "      <td>0.940532</td>\n",
              "      <td>0.994266</td>\n",
              "    </tr>\n",
              "    <tr>\n",
              "      <th>Sea Level</th>\n",
              "      <td>0.984028</td>\n",
              "      <td>0.859977</td>\n",
              "      <td>0.972788</td>\n",
              "      <td>1.000000</td>\n",
              "      <td>0.897252</td>\n",
              "      <td>0.976027</td>\n",
              "    </tr>\n",
              "    <tr>\n",
              "      <th>Number of natural disasters</th>\n",
              "      <td>0.858474</td>\n",
              "      <td>0.870910</td>\n",
              "      <td>0.940532</td>\n",
              "      <td>0.897252</td>\n",
              "      <td>1.000000</td>\n",
              "      <td>0.956911</td>\n",
              "    </tr>\n",
              "    <tr>\n",
              "      <th>World Population</th>\n",
              "      <td>0.954593</td>\n",
              "      <td>0.869529</td>\n",
              "      <td>0.994266</td>\n",
              "      <td>0.976027</td>\n",
              "      <td>0.956911</td>\n",
              "      <td>1.000000</td>\n",
              "    </tr>\n",
              "  </tbody>\n",
              "</table>\n",
              "</div>\n",
              "      <button class=\"colab-df-convert\" onclick=\"convertToInteractive('df-4883a62c-7b00-4323-a7f2-57a184f9aae8')\"\n",
              "              title=\"Convert this dataframe to an interactive table.\"\n",
              "              style=\"display:none;\">\n",
              "        \n",
              "  <svg xmlns=\"http://www.w3.org/2000/svg\" height=\"24px\"viewBox=\"0 0 24 24\"\n",
              "       width=\"24px\">\n",
              "    <path d=\"M0 0h24v24H0V0z\" fill=\"none\"/>\n",
              "    <path d=\"M18.56 5.44l.94 2.06.94-2.06 2.06-.94-2.06-.94-.94-2.06-.94 2.06-2.06.94zm-11 1L8.5 8.5l.94-2.06 2.06-.94-2.06-.94L8.5 2.5l-.94 2.06-2.06.94zm10 10l.94 2.06.94-2.06 2.06-.94-2.06-.94-.94-2.06-.94 2.06-2.06.94z\"/><path d=\"M17.41 7.96l-1.37-1.37c-.4-.4-.92-.59-1.43-.59-.52 0-1.04.2-1.43.59L10.3 9.45l-7.72 7.72c-.78.78-.78 2.05 0 2.83L4 21.41c.39.39.9.59 1.41.59.51 0 1.02-.2 1.41-.59l7.78-7.78 2.81-2.81c.8-.78.8-2.07 0-2.86zM5.41 20L4 18.59l7.72-7.72 1.47 1.35L5.41 20z\"/>\n",
              "  </svg>\n",
              "      </button>\n",
              "      \n",
              "  <style>\n",
              "    .colab-df-container {\n",
              "      display:flex;\n",
              "      flex-wrap:wrap;\n",
              "      gap: 12px;\n",
              "    }\n",
              "\n",
              "    .colab-df-convert {\n",
              "      background-color: #E8F0FE;\n",
              "      border: none;\n",
              "      border-radius: 50%;\n",
              "      cursor: pointer;\n",
              "      display: none;\n",
              "      fill: #1967D2;\n",
              "      height: 32px;\n",
              "      padding: 0 0 0 0;\n",
              "      width: 32px;\n",
              "    }\n",
              "\n",
              "    .colab-df-convert:hover {\n",
              "      background-color: #E2EBFA;\n",
              "      box-shadow: 0px 1px 2px rgba(60, 64, 67, 0.3), 0px 1px 3px 1px rgba(60, 64, 67, 0.15);\n",
              "      fill: #174EA6;\n",
              "    }\n",
              "\n",
              "    [theme=dark] .colab-df-convert {\n",
              "      background-color: #3B4455;\n",
              "      fill: #D2E3FC;\n",
              "    }\n",
              "\n",
              "    [theme=dark] .colab-df-convert:hover {\n",
              "      background-color: #434B5C;\n",
              "      box-shadow: 0px 1px 3px 1px rgba(0, 0, 0, 0.15);\n",
              "      filter: drop-shadow(0px 1px 2px rgba(0, 0, 0, 0.3));\n",
              "      fill: #FFFFFF;\n",
              "    }\n",
              "  </style>\n",
              "\n",
              "      <script>\n",
              "        const buttonEl =\n",
              "          document.querySelector('#df-4883a62c-7b00-4323-a7f2-57a184f9aae8 button.colab-df-convert');\n",
              "        buttonEl.style.display =\n",
              "          google.colab.kernel.accessAllowed ? 'block' : 'none';\n",
              "\n",
              "        async function convertToInteractive(key) {\n",
              "          const element = document.querySelector('#df-4883a62c-7b00-4323-a7f2-57a184f9aae8');\n",
              "          const dataTable =\n",
              "            await google.colab.kernel.invokeFunction('convertToInteractive',\n",
              "                                                     [key], {});\n",
              "          if (!dataTable) return;\n",
              "\n",
              "          const docLinkHtml = 'Like what you see? Visit the ' +\n",
              "            '<a target=\"_blank\" href=https://colab.research.google.com/notebooks/data_table.ipynb>data table notebook</a>'\n",
              "            + ' to learn more about interactive tables.';\n",
              "          element.innerHTML = '';\n",
              "          dataTable['output_type'] = 'display_data';\n",
              "          await google.colab.output.renderOutput(dataTable, element);\n",
              "          const docLink = document.createElement('div');\n",
              "          docLink.innerHTML = docLinkHtml;\n",
              "          element.appendChild(docLink);\n",
              "        }\n",
              "      </script>\n",
              "    </div>\n",
              "  </div>\n",
              "  "
            ]
          },
          "metadata": {},
          "execution_count": 15
        }
      ]
    },
    {
      "cell_type": "markdown",
      "source": [
        "Das Handwerkszeug zur Analyse von Datensätzen haben wir gelernt!\n",
        "Jetzt kannst du gerne den neuen Datensatz etwas mehr unter die Lupe nehmen und beispielsweise wieder Plots erstellen."
      ],
      "metadata": {
        "id": "lJv1DDusgUr7"
      }
    },
    {
      "cell_type": "code",
      "source": [
        "# hier ist Platz für deinen Code"
      ],
      "metadata": {
        "id": "r2LXvDIAgtny"
      },
      "execution_count": null,
      "outputs": []
    },
    {
      "cell_type": "markdown",
      "source": [
        "# Ausblick 🌤 🌍\n",
        "Bisher haben wir die Temperaturen nur mit Liniendiagrammen visualisiert. Hier wollen wir euch noch eine andere coole Art der Visualisierung unserer Ergebnisse zeigen, nämlich einen interaktiven Globus! Diesen könnt ihr selbst mit eurer Maus drehen und dabei für jedes beliebige Land die durchschnittliche Temperatur sehen!"
      ],
      "metadata": {
        "id": "XeiN0RB-L1TF"
      }
    },
    {
      "cell_type": "code",
      "source": [
        "# Für diese Visualisierung brauchen wir das Paket plotly\n",
        "import plotly.express as px\n",
        "\n",
        "# Hierfür brauchen wir wieder einen neuen Datensatz, der Temperaturen pro Land enthält\n",
        "gdown.download(\"https://drive.google.com/uc?id=1A5ptCQlqJz4sQ2Y6WW2BchGMsrUKuHtW\", \"GlobalLandTemperaturesByCountry.csv\")\n",
        "GlobalLandTemperaturesByCountry = pd.read_csv(\"GlobalLandTemperaturesByCountry.csv\")\n",
        "Länder_Durchschnittstemperaturen = GlobalLandTemperaturesByCountry.groupby(by='Country', as_index=False).mean()\n"
      ],
      "metadata": {
        "id": "ai6nQvl-oOcI",
        "colab": {
          "base_uri": "https://localhost:8080/"
        },
        "outputId": "d30ca9d5-831c-4225-c61d-323810fdddf1"
      },
      "execution_count": null,
      "outputs": [
        {
          "output_type": "stream",
          "name": "stderr",
          "text": [
            "Downloading...\n",
            "From: https://drive.google.com/uc?id=1A5ptCQlqJz4sQ2Y6WW2BchGMsrUKuHtW\n",
            "To: /content/GlobalLandTemperaturesByCountry.csv\n",
            "100%|██████████| 22.7M/22.7M [00:00<00:00, 56.1MB/s]\n",
            "<ipython-input-21-1af00ce7a75d>:7: FutureWarning:\n",
            "\n",
            "The default value of numeric_only in DataFrameGroupBy.mean is deprecated. In a future version, numeric_only will default to False. Either specify numeric_only or select only columns which should be valid for the function.\n",
            "\n"
          ]
        }
      ]
    },
    {
      "cell_type": "code",
      "source": [
        "fig = px.choropleth(\n",
        "        # Als ersten Funktionsparameter übergeben wir unsere Tabellenwerte von oben\n",
        "        Länder_Durchschnittstemperaturen,\n",
        "\n",
        "        # Danach müssen wir erklären wie genau unsere Tabellenspalten aufgebaut sind\n",
        "\n",
        "        # Hier müssen wir den Namen unserer Tabellenspalte eintragen, in der die Ländernamen stehen\n",
        "        locations = 'Country',\n",
        "        # Hier legen wir fest, dass in dieser Zeile ganz ausgeschriebene Ländernamen stehen. Eine andere Option wären Abkürzungen wie USA\n",
        "        locationmode = 'country names',\n",
        "        # Die Farbe soll unsere berechnete Spalte \"AverageTemperature\" mit den Durchschnittstemperaturen darstellen\n",
        "        color = 'AverageTemperature',\n",
        "        # Die Projection lässt unseren \"Blickwinkel\" auf die Erde einstellen: orthographic erstellt einen runden Globus, ihr könnt aber auch mal 'natural earth' versuchen\n",
        "        projection = 'orthographic', # 'natural earth'\n",
        "\n",
        "        # Zuletzt wählen wir den Text der als Legende / Label für unsere Tabellenspalten angezeigt werden soll: Durchschnittstemperatur und Land\n",
        "        labels = {\n",
        "            'AverageTemperature': 'Durchschnittstemperatur in °C',\n",
        "            'Country': 'Land'},\n",
        "            # die Farbskala wollen wir von einem dunklem blau Ton (283747) bis zu einem dunklem rot Ton (A93226)\n",
        "            color_continuous_scale=('#283747', '#2874A6', '#3498DB', '#F5B041', '#E67E22', '#A93226'),\n",
        "        )\n",
        "\n",
        "# Nachdem die Bibliothek nun alle Details kennt, können wir die Visualisierung anzeigen lassen und erkunden\n",
        "fig.show()"
      ],
      "metadata": {
        "id": "L6usiloWLLAH"
      },
      "execution_count": null,
      "outputs": []
    },
    {
      "cell_type": "markdown",
      "source": [
        "# Zusammenfassung\n",
        "\n",
        "Was haben wir heute gelernt?\n",
        "\n",
        "*   Maximale, minimale und Durchschnittswerte von Daten bestimmen\n",
        "\n",
        "*   Daten grafisch darstellen\n",
        "\n",
        "*   mit einem Modell Daten für die Zukunft vorhersagen\n",
        "\n",
        "*   Korrelationen bzw. Zusammenhänge zwischen Größen aufzeigen\n",
        "\n",
        "\n",
        "\n"
      ],
      "metadata": {
        "id": "cNW5dQ7ENAs4"
      }
    },
    {
      "cell_type": "markdown",
      "source": [
        "# Hintergrund ⏮🖱\n",
        "\n",
        "Vielleicht hast du dich gefragt, was hinter Befehlen wie `min`, `max` oder `mean` steckt. Ganz einfach: Jemand hat ein Programm dafür geschrieben. Wenn wir Pakete wie `pandas` oder `numpy` importieren, dann können wir diese Programme einfach nutzen. Wie sie eigentlich funktionieren, schauen wir uns jetzt an."
      ],
      "metadata": {
        "id": "vQi-aCjPQ2cA"
      }
    },
    {
      "cell_type": "markdown",
      "source": [
        "Schau dir einmal das folgende Programm an, welches das Minimum einer Liste von Zahlen ausgibt. Was passiert in dem Programm?"
      ],
      "metadata": {
        "id": "tpaEh2OXSFCL"
      }
    },
    {
      "cell_type": "code",
      "source": [
        "liste = [3,6,2,7,8,5]\n",
        "\n",
        "minimum_temporär = liste[0]\n",
        "for eintrag in liste:\n",
        "  if eintrag < minimum_temporär:\n",
        "    minimum_temporär = eintrag\n",
        "minimum = minimum_temporär\n",
        "\n",
        "print(minimum)\n",
        "\n",
        "\n",
        "# Lösung:\n",
        "# Wir setzen den ersten Eintrag der Liste als temporäres Minimum.\n",
        "# Dann gehen wir die Liste von Anfang bis Ende durch.\n",
        "# Für jeden Listeneintrag vergleichen wir den Eintrag mit dem aktuellen Minimum.\n",
        "# Falls der betrachtete Eintrag kleiner ist, als das temporäre Minimum, setzen\n",
        "# wir den aktuellen Eintrag als temporäres Minimum und gehen weiter durch die Liste."
      ],
      "metadata": {
        "colab": {
          "base_uri": "https://localhost:8080/"
        },
        "id": "jvYRGL4ESWRo",
        "outputId": "7a615d97-fbe3-4e32-a08b-4182c52abfbe"
      },
      "execution_count": null,
      "outputs": [
        {
          "output_type": "stream",
          "name": "stdout",
          "text": [
            "2\n"
          ]
        }
      ]
    },
    {
      "cell_type": "markdown",
      "source": [
        "Etwas übersichtlicher können wir das Programm als Funktion schreiben:"
      ],
      "metadata": {
        "id": "k8WXTCGPTlmu"
      }
    },
    {
      "cell_type": "code",
      "source": [
        "def minimum(liste):\n",
        "\n",
        "  minimum_temporär = liste[0]\n",
        "  for eintrag in liste:\n",
        "    if eintrag < minimum_temporär:\n",
        "      minimum_temporär = eintrag\n",
        "  minimum = minimum_temporär\n",
        "\n",
        "  return(minimum)"
      ],
      "metadata": {
        "id": "ZHSiZ3czTtiI"
      },
      "execution_count": null,
      "outputs": []
    },
    {
      "cell_type": "markdown",
      "source": [
        "Wir können die Funktion nun für verschiedene Listen aufrufen."
      ],
      "metadata": {
        "id": "uEdVviHVT75Y"
      }
    },
    {
      "cell_type": "code",
      "source": [
        "liste1 = [300, 5, 30, -80, 204, 47]\n",
        "minimum(liste1)"
      ],
      "metadata": {
        "colab": {
          "base_uri": "https://localhost:8080/"
        },
        "id": "u8bHcY8QUD7X",
        "outputId": "96e4b58d-34d5-47d9-b303-12427efbcbba"
      },
      "execution_count": null,
      "outputs": [
        {
          "output_type": "execute_result",
          "data": {
            "text/plain": [
              "-80"
            ]
          },
          "metadata": {},
          "execution_count": 7
        }
      ]
    },
    {
      "cell_type": "code",
      "source": [
        "liste2 = [0.5, 0.2, 0.6, 0.7]\n",
        "minimum(liste2)"
      ],
      "metadata": {
        "colab": {
          "base_uri": "https://localhost:8080/"
        },
        "id": "DGn0Vx16UZ82",
        "outputId": "e849cfd3-aa78-49fa-b6af-d5ce8ad6fd66"
      },
      "execution_count": null,
      "outputs": [
        {
          "output_type": "execute_result",
          "data": {
            "text/plain": [
              "0.2"
            ]
          },
          "metadata": {},
          "execution_count": 6
        }
      ]
    },
    {
      "cell_type": "markdown",
      "source": [
        "\n",
        "<font color='sky blue'>__Aufgabe:__  <br>\n",
        "Versuche eine ähnliche Funktion zu schreiben, die\n",
        "das Maximum einer Liste ausgibt!\n",
        "</font>"
      ],
      "metadata": {
        "id": "gPG8KNDwUiyw"
      }
    },
    {
      "cell_type": "code",
      "source": [
        "def maximum(liste):\n",
        "\n",
        "  # hier kommt dein Code hin\n",
        "\n",
        "  return maximum"
      ],
      "metadata": {
        "id": "0TJm767pVWF8"
      },
      "execution_count": null,
      "outputs": []
    },
    {
      "cell_type": "markdown",
      "source": [
        "Jetzt noch der Durchschnitt! Das ist vielleicht erstmal nicht so einfach. Zur Hilfe zeigt das folgende Beispiel, wie die Summe aller Zahlen in einer Liste berechnet werden kann."
      ],
      "metadata": {
        "id": "jdrkLbS1Vfgk"
      }
    },
    {
      "cell_type": "code",
      "source": [
        "def summe(liste):\n",
        "\n",
        "  summe_temporär = 0\n",
        "  for eintrag in liste:\n",
        "    summe_temporär = summe_temporär + eintrag\n",
        "  summe = summe_temporär\n",
        "\n",
        "  return summe"
      ],
      "metadata": {
        "id": "_K7d82QsVemx"
      },
      "execution_count": null,
      "outputs": []
    },
    {
      "cell_type": "markdown",
      "source": [
        "Und jetzt du!\n",
        "\n",
        "<font color='sky blue'>__Aufgabe:__  <br>\n",
        "Schreibe eine Funktion, die\n",
        "den Durchschnitt einer Liste berechnet!\n",
        "\n",
        "Tipp: Die Länge der Liste (= Anzahl der Einträge) wird durch den Befehl `len(liste)` ausgegeben.\n",
        "</font>"
      ],
      "metadata": {
        "id": "-53pH9yH50O-"
      }
    },
    {
      "cell_type": "code",
      "source": [
        "def durchschnitt(liste):\n",
        "\n",
        "  # hier kommt dein Code hin\n",
        "\n",
        "  return durchschnitt"
      ],
      "metadata": {
        "id": "ETripTls5i6s"
      },
      "execution_count": null,
      "outputs": []
    },
    {
      "cell_type": "code",
      "source": [
        "# Lösung\n",
        "\n",
        "def durchschnitt(liste):\n",
        "\n",
        "  durchschnitt = summe(liste)/len(liste)\n",
        "\n",
        "  return durchschnitt\n",
        "\n",
        "\n",
        "\n",
        "# andere Variante:\n",
        "\n",
        "# Lösung\n",
        "\n",
        "def durchschnitt(liste):\n",
        "\n",
        "  summe_temporär = 0\n",
        "  for eintrag in liste:\n",
        "    summe_temporär = summe_temporär + eintrag\n",
        "  summe = summe_temporär\n",
        "  durchschnitt = summe/len(liste)\n",
        "\n",
        "  return durchschnitt"
      ],
      "metadata": {
        "id": "up0n5BNb52RK"
      },
      "execution_count": null,
      "outputs": []
    }
  ]
}