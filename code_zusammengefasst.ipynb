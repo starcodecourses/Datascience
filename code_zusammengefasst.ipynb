{
  "cells": [
    {
      "cell_type": "code",
      "execution_count": null,
      "metadata": {
        "id": "RV6Ancs_3t2g"
      },
      "outputs": [],
      "source": [
        "# Imports\n",
        "import pandas as pd\n",
        "import numpy as np\n",
        "import seaborn as sns\n",
        "import matplotlib.pyplot as plt\n",
        "%matplotlib inline\n",
        "\n",
        "import datetime\n",
        "\n",
        "# Plotly\n",
        "#import chart_studio.plotly as py\n",
        "import plotly.express as px\n",
        "import plotly.graph_objects as go\n",
        "import colorlover as cl\n",
        "from plotly.subplots import make_subplots\n",
        "\n",
        "\n",
        "#Download the Data\n",
        "#!pip install gdown\n",
        "import gdown\n",
        "files = {\"continents2.csv\": \"https://drive.google.com/uc?export=download&id=1EaXdz5cmaZP-NxuyDNmOidKxFKY_FTIb\",\n",
        "         \"GlobalTemperatures.csv\": \"https://drive.google.com/uc?id=1TOL3JDm75YfVAO9LkzCuCNvSonh2hi1_\",\n",
        "         \"GlobalLandTemperaturesByState.csv\": \"https://drive.google.com/uc?id=1OvgM2Hz512x7JCgloZXr3BwQviAO0X0O\",\n",
        "         \"GlobalLandTemperaturesByCountry.csv\": \"https://drive.google.com/uc?id=1A5ptCQlqJz4sQ2Y6WW2BchGMsrUKuHtW\",\n",
        "         #\"GlobalLandTemperaturesByCity.csv\": \"https://drive.google.com/uc?id=17CV_8aVscRlscgtxVbk19I4hz0VjLdfS\", \n",
        "         \"cities.csv\": \"https://drive.google.com/uc?id=1W9VDIDuj60nMc2rD43KgbJCZlNnDCsOp\", \n",
        "         \"region.csv\": \"https://drive.google.com/uc?id=1WiO1OykbEnyQj4PJZP5943fdmtsfnpja\", \n",
        "         \"countries.csv\": \"https://drive.google.com/uc?id=1Z7LKYwEzDotiICO136Z8Wg4yT9_KWiFF\"}\n",
        "for file in files:\n",
        "  gdown.download(files[file], file, quiet=True)"
      ]
    },
    {
      "cell_type": "code",
      "execution_count": null,
      "metadata": {
        "id": "jlUIY7ox3t2l"
      },
      "outputs": [],
      "source": [
        "körpergrößen = [165, 175, 187, 178, 166, 182, 172, 174, 192, 169, 177, 180, 167, 185, 228]"
      ]
    },
    {
      "cell_type": "code",
      "execution_count": null,
      "metadata": {
        "id": "RDEnICnD3t2m",
        "outputId": "407a0a35-f0b0-4478-a2a7-c25bb5a90b0b"
      },
      "outputs": [
        {
          "name": "stdout",
          "output_type": "stream",
          "text": [
            "Der kleinste Wert ist:  165\n"
          ]
        }
      ],
      "source": [
        "print(\"Der kleinste Wert ist: \", np.min(körpergrößen))"
      ]
    },
    {
      "cell_type": "code",
      "execution_count": null,
      "metadata": {
        "id": "VPWxkfYV3t2o",
        "outputId": "56cd720f-002d-492f-ae26-f14608d01877"
      },
      "outputs": [
        {
          "name": "stdout",
          "output_type": "stream",
          "text": [
            "Der größte Wert ist:  228\n"
          ]
        }
      ],
      "source": [
        "print(\"Der größte Wert ist: \", np.max(körpergrößen))"
      ]
    },
    {
      "cell_type": "code",
      "execution_count": null,
      "metadata": {
        "id": "vyBZJcyx3t2o",
        "outputId": "c7e98bf0-4b72-4689-fd29-44f739989614"
      },
      "outputs": [
        {
          "data": {
            "text/plain": [
              "179.8"
            ]
          },
          "execution_count": 9,
          "metadata": {},
          "output_type": "execute_result"
        }
      ],
      "source": [
        "np.mean(körpergrößen)"
      ]
    },
    {
      "cell_type": "code",
      "execution_count": null,
      "metadata": {
        "id": "TXxwdexH3t2p",
        "outputId": "b3892da0-ea7e-4b6f-f5f4-e9a41ecc25ef"
      },
      "outputs": [
        {
          "data": {
            "text/plain": [
              "177.0"
            ]
          },
          "execution_count": 11,
          "metadata": {},
          "output_type": "execute_result"
        }
      ],
      "source": [
        "np.median(körpergrößen)"
      ]
    },
    {
      "cell_type": "code",
      "execution_count": null,
      "metadata": {
        "id": "c1dqgc3u3t2p",
        "outputId": "84510156-1caf-41fc-c2b9-154b3ad588ba"
      },
      "outputs": [
        {
          "data": {
            "text/html": [
              "<div>\n",
              "<style scoped>\n",
              "    .dataframe tbody tr th:only-of-type {\n",
              "        vertical-align: middle;\n",
              "    }\n",
              "\n",
              "    .dataframe tbody tr th {\n",
              "        vertical-align: top;\n",
              "    }\n",
              "\n",
              "    .dataframe thead th {\n",
              "        text-align: right;\n",
              "    }\n",
              "</style>\n",
              "<table border=\"1\" class=\"dataframe\">\n",
              "  <thead>\n",
              "    <tr style=\"text-align: right;\">\n",
              "      <th></th>\n",
              "      <th>dt</th>\n",
              "      <th>LandAverageTemperature</th>\n",
              "      <th>LandAverageTemperatureUncertainty</th>\n",
              "      <th>LandMaxTemperature</th>\n",
              "      <th>LandMaxTemperatureUncertainty</th>\n",
              "      <th>LandMinTemperature</th>\n",
              "      <th>LandMinTemperatureUncertainty</th>\n",
              "      <th>LandAndOceanAverageTemperature</th>\n",
              "      <th>LandAndOceanAverageTemperatureUncertainty</th>\n",
              "    </tr>\n",
              "  </thead>\n",
              "  <tbody>\n",
              "    <tr>\n",
              "      <th>0</th>\n",
              "      <td>1750-01-01</td>\n",
              "      <td>3.034</td>\n",
              "      <td>3.574</td>\n",
              "      <td>NaN</td>\n",
              "      <td>NaN</td>\n",
              "      <td>NaN</td>\n",
              "      <td>NaN</td>\n",
              "      <td>NaN</td>\n",
              "      <td>NaN</td>\n",
              "    </tr>\n",
              "    <tr>\n",
              "      <th>1</th>\n",
              "      <td>1750-02-01</td>\n",
              "      <td>3.083</td>\n",
              "      <td>3.702</td>\n",
              "      <td>NaN</td>\n",
              "      <td>NaN</td>\n",
              "      <td>NaN</td>\n",
              "      <td>NaN</td>\n",
              "      <td>NaN</td>\n",
              "      <td>NaN</td>\n",
              "    </tr>\n",
              "    <tr>\n",
              "      <th>2</th>\n",
              "      <td>1750-03-01</td>\n",
              "      <td>5.626</td>\n",
              "      <td>3.076</td>\n",
              "      <td>NaN</td>\n",
              "      <td>NaN</td>\n",
              "      <td>NaN</td>\n",
              "      <td>NaN</td>\n",
              "      <td>NaN</td>\n",
              "      <td>NaN</td>\n",
              "    </tr>\n",
              "    <tr>\n",
              "      <th>3</th>\n",
              "      <td>1750-04-01</td>\n",
              "      <td>8.490</td>\n",
              "      <td>2.451</td>\n",
              "      <td>NaN</td>\n",
              "      <td>NaN</td>\n",
              "      <td>NaN</td>\n",
              "      <td>NaN</td>\n",
              "      <td>NaN</td>\n",
              "      <td>NaN</td>\n",
              "    </tr>\n",
              "    <tr>\n",
              "      <th>4</th>\n",
              "      <td>1750-05-01</td>\n",
              "      <td>11.573</td>\n",
              "      <td>2.072</td>\n",
              "      <td>NaN</td>\n",
              "      <td>NaN</td>\n",
              "      <td>NaN</td>\n",
              "      <td>NaN</td>\n",
              "      <td>NaN</td>\n",
              "      <td>NaN</td>\n",
              "    </tr>\n",
              "    <tr>\n",
              "      <th>...</th>\n",
              "      <td>...</td>\n",
              "      <td>...</td>\n",
              "      <td>...</td>\n",
              "      <td>...</td>\n",
              "      <td>...</td>\n",
              "      <td>...</td>\n",
              "      <td>...</td>\n",
              "      <td>...</td>\n",
              "      <td>...</td>\n",
              "    </tr>\n",
              "    <tr>\n",
              "      <th>3182</th>\n",
              "      <td>2015-03-01</td>\n",
              "      <td>6.740</td>\n",
              "      <td>0.060</td>\n",
              "      <td>12.659</td>\n",
              "      <td>0.096</td>\n",
              "      <td>0.894</td>\n",
              "      <td>0.079</td>\n",
              "      <td>15.193</td>\n",
              "      <td>0.061</td>\n",
              "    </tr>\n",
              "    <tr>\n",
              "      <th>3183</th>\n",
              "      <td>2015-04-01</td>\n",
              "      <td>9.313</td>\n",
              "      <td>0.088</td>\n",
              "      <td>15.224</td>\n",
              "      <td>0.137</td>\n",
              "      <td>3.402</td>\n",
              "      <td>0.147</td>\n",
              "      <td>15.962</td>\n",
              "      <td>0.061</td>\n",
              "    </tr>\n",
              "    <tr>\n",
              "      <th>3184</th>\n",
              "      <td>2015-05-01</td>\n",
              "      <td>12.312</td>\n",
              "      <td>0.081</td>\n",
              "      <td>18.181</td>\n",
              "      <td>0.117</td>\n",
              "      <td>6.313</td>\n",
              "      <td>0.153</td>\n",
              "      <td>16.774</td>\n",
              "      <td>0.058</td>\n",
              "    </tr>\n",
              "    <tr>\n",
              "      <th>3185</th>\n",
              "      <td>2015-06-01</td>\n",
              "      <td>14.505</td>\n",
              "      <td>0.068</td>\n",
              "      <td>20.364</td>\n",
              "      <td>0.133</td>\n",
              "      <td>8.627</td>\n",
              "      <td>0.168</td>\n",
              "      <td>17.390</td>\n",
              "      <td>0.057</td>\n",
              "    </tr>\n",
              "    <tr>\n",
              "      <th>3186</th>\n",
              "      <td>2015-07-01</td>\n",
              "      <td>15.051</td>\n",
              "      <td>0.086</td>\n",
              "      <td>20.904</td>\n",
              "      <td>0.109</td>\n",
              "      <td>9.326</td>\n",
              "      <td>0.225</td>\n",
              "      <td>17.611</td>\n",
              "      <td>0.058</td>\n",
              "    </tr>\n",
              "  </tbody>\n",
              "</table>\n",
              "<p>3187 rows × 9 columns</p>\n",
              "</div>"
            ],
            "text/plain": [
              "              dt  LandAverageTemperature  LandAverageTemperatureUncertainty  \\\n",
              "0     1750-01-01                   3.034                              3.574   \n",
              "1     1750-02-01                   3.083                              3.702   \n",
              "2     1750-03-01                   5.626                              3.076   \n",
              "3     1750-04-01                   8.490                              2.451   \n",
              "4     1750-05-01                  11.573                              2.072   \n",
              "...          ...                     ...                                ...   \n",
              "3182  2015-03-01                   6.740                              0.060   \n",
              "3183  2015-04-01                   9.313                              0.088   \n",
              "3184  2015-05-01                  12.312                              0.081   \n",
              "3185  2015-06-01                  14.505                              0.068   \n",
              "3186  2015-07-01                  15.051                              0.086   \n",
              "\n",
              "      LandMaxTemperature  LandMaxTemperatureUncertainty  LandMinTemperature  \\\n",
              "0                    NaN                            NaN                 NaN   \n",
              "1                    NaN                            NaN                 NaN   \n",
              "2                    NaN                            NaN                 NaN   \n",
              "3                    NaN                            NaN                 NaN   \n",
              "4                    NaN                            NaN                 NaN   \n",
              "...                  ...                            ...                 ...   \n",
              "3182              12.659                          0.096               0.894   \n",
              "3183              15.224                          0.137               3.402   \n",
              "3184              18.181                          0.117               6.313   \n",
              "3185              20.364                          0.133               8.627   \n",
              "3186              20.904                          0.109               9.326   \n",
              "\n",
              "      LandMinTemperatureUncertainty  LandAndOceanAverageTemperature  \\\n",
              "0                               NaN                             NaN   \n",
              "1                               NaN                             NaN   \n",
              "2                               NaN                             NaN   \n",
              "3                               NaN                             NaN   \n",
              "4                               NaN                             NaN   \n",
              "...                             ...                             ...   \n",
              "3182                          0.079                          15.193   \n",
              "3183                          0.147                          15.962   \n",
              "3184                          0.153                          16.774   \n",
              "3185                          0.168                          17.390   \n",
              "3186                          0.225                          17.611   \n",
              "\n",
              "      LandAndOceanAverageTemperatureUncertainty  \n",
              "0                                           NaN  \n",
              "1                                           NaN  \n",
              "2                                           NaN  \n",
              "3                                           NaN  \n",
              "4                                           NaN  \n",
              "...                                         ...  \n",
              "3182                                      0.061  \n",
              "3183                                      0.061  \n",
              "3184                                      0.058  \n",
              "3185                                      0.057  \n",
              "3186                                      0.058  \n",
              "\n",
              "[3187 rows x 9 columns]"
            ]
          },
          "execution_count": 12,
          "metadata": {},
          "output_type": "execute_result"
        }
      ],
      "source": [
        "# Data wird gelesen\n",
        "global_temperatures = pd.read_csv(\"GlobalTemperatures.csv\")\n",
        "global_temperatures.head(-5)"
      ]
    },
    {
      "cell_type": "code",
      "execution_count": null,
      "metadata": {
        "id": "Bv2LApZL3t2q",
        "outputId": "b631c3d5-5145-4e50-d21a-acb85b0c08cb"
      },
      "outputs": [
        {
          "data": {
            "text/html": [
              "<div>\n",
              "<style scoped>\n",
              "    .dataframe tbody tr th:only-of-type {\n",
              "        vertical-align: middle;\n",
              "    }\n",
              "\n",
              "    .dataframe tbody tr th {\n",
              "        vertical-align: top;\n",
              "    }\n",
              "\n",
              "    .dataframe thead th {\n",
              "        text-align: right;\n",
              "    }\n",
              "</style>\n",
              "<table border=\"1\" class=\"dataframe\">\n",
              "  <thead>\n",
              "    <tr style=\"text-align: right;\">\n",
              "      <th></th>\n",
              "      <th>LandAverageTemperature</th>\n",
              "      <th>LandAverageTemperatureUncertainty</th>\n",
              "      <th>LandMaxTemperature</th>\n",
              "      <th>LandMaxTemperatureUncertainty</th>\n",
              "      <th>LandMinTemperature</th>\n",
              "      <th>LandMinTemperatureUncertainty</th>\n",
              "      <th>LandAndOceanAverageTemperature</th>\n",
              "      <th>LandAndOceanAverageTemperatureUncertainty</th>\n",
              "    </tr>\n",
              "    <tr>\n",
              "      <th>Date</th>\n",
              "      <th></th>\n",
              "      <th></th>\n",
              "      <th></th>\n",
              "      <th></th>\n",
              "      <th></th>\n",
              "      <th></th>\n",
              "      <th></th>\n",
              "      <th></th>\n",
              "    </tr>\n",
              "  </thead>\n",
              "  <tbody>\n",
              "    <tr>\n",
              "      <th>1850</th>\n",
              "      <td>7.900667</td>\n",
              "      <td>0.876417</td>\n",
              "      <td>13.476667</td>\n",
              "      <td>2.394833</td>\n",
              "      <td>1.964333</td>\n",
              "      <td>1.571167</td>\n",
              "      <td>14.867167</td>\n",
              "      <td>0.308167</td>\n",
              "    </tr>\n",
              "    <tr>\n",
              "      <th>1851</th>\n",
              "      <td>8.178583</td>\n",
              "      <td>0.881917</td>\n",
              "      <td>13.081000</td>\n",
              "      <td>2.397250</td>\n",
              "      <td>2.203917</td>\n",
              "      <td>1.632417</td>\n",
              "      <td>14.991833</td>\n",
              "      <td>0.312083</td>\n",
              "    </tr>\n",
              "    <tr>\n",
              "      <th>1852</th>\n",
              "      <td>8.100167</td>\n",
              "      <td>0.918250</td>\n",
              "      <td>13.397333</td>\n",
              "      <td>2.619250</td>\n",
              "      <td>2.337000</td>\n",
              "      <td>1.382917</td>\n",
              "      <td>15.006500</td>\n",
              "      <td>0.316417</td>\n",
              "    </tr>\n",
              "    <tr>\n",
              "      <th>1853</th>\n",
              "      <td>8.041833</td>\n",
              "      <td>0.835000</td>\n",
              "      <td>13.886583</td>\n",
              "      <td>2.095083</td>\n",
              "      <td>1.892500</td>\n",
              "      <td>1.355583</td>\n",
              "      <td>14.955167</td>\n",
              "      <td>0.283833</td>\n",
              "    </tr>\n",
              "    <tr>\n",
              "      <th>1854</th>\n",
              "      <td>8.210500</td>\n",
              "      <td>0.825667</td>\n",
              "      <td>13.977417</td>\n",
              "      <td>1.783333</td>\n",
              "      <td>1.762167</td>\n",
              "      <td>1.357000</td>\n",
              "      <td>14.991000</td>\n",
              "      <td>0.276417</td>\n",
              "    </tr>\n",
              "  </tbody>\n",
              "</table>\n",
              "</div>"
            ],
            "text/plain": [
              "      LandAverageTemperature  LandAverageTemperatureUncertainty  \\\n",
              "Date                                                              \n",
              "1850                7.900667                           0.876417   \n",
              "1851                8.178583                           0.881917   \n",
              "1852                8.100167                           0.918250   \n",
              "1853                8.041833                           0.835000   \n",
              "1854                8.210500                           0.825667   \n",
              "\n",
              "      LandMaxTemperature  LandMaxTemperatureUncertainty  LandMinTemperature  \\\n",
              "Date                                                                          \n",
              "1850           13.476667                       2.394833            1.964333   \n",
              "1851           13.081000                       2.397250            2.203917   \n",
              "1852           13.397333                       2.619250            2.337000   \n",
              "1853           13.886583                       2.095083            1.892500   \n",
              "1854           13.977417                       1.783333            1.762167   \n",
              "\n",
              "      LandMinTemperatureUncertainty  LandAndOceanAverageTemperature  \\\n",
              "Date                                                                  \n",
              "1850                       1.571167                       14.867167   \n",
              "1851                       1.632417                       14.991833   \n",
              "1852                       1.382917                       15.006500   \n",
              "1853                       1.355583                       14.955167   \n",
              "1854                       1.357000                       14.991000   \n",
              "\n",
              "      LandAndOceanAverageTemperatureUncertainty  \n",
              "Date                                             \n",
              "1850                                   0.308167  \n",
              "1851                                   0.312083  \n",
              "1852                                   0.316417  \n",
              "1853                                   0.283833  \n",
              "1854                                   0.276417  "
            ]
          },
          "execution_count": 13,
          "metadata": {},
          "output_type": "execute_result"
        }
      ],
      "source": [
        "#Zunächst müssen wir einige Vorbereitungen treffen.\n",
        "global_temperatures.dropna(axis = 0, inplace = True)\n",
        "global_temperatures['Date'] = pd.to_datetime(global_temperatures.dt) # converted all dates to the same format\n",
        "\n",
        "# Nun verwenden wir die Datums Spalte als einen Index \n",
        "# So wie in einem Lexikon die einzelne Buchstaben dir das finden von Wörtern erleichtert, \n",
        "# lässt uns ein Index leichter und effizienter Ergebnisse finden\n",
        "global_temperatures.set_index(\"Date\", inplace=True)\n",
        "global_temperatures.drop(columns = ['dt'], axis = 1, inplace = True) # drop the dt column\n",
        "\n",
        "# Für zukünftige Analysen werden wir nur mit Jahresdaten als Durchschnitt arbeiten \n",
        "#(weil Daten fehlen und Daten nicht konsistent sind).\n",
        "yearly_global_temperatures = global_temperatures.groupby(by = global_temperatures.index.year)[['LandAverageTemperature', 'LandAverageTemperatureUncertainty',\n",
        "       'LandMaxTemperature', 'LandMaxTemperatureUncertainty',\n",
        "       'LandMinTemperature', 'LandMinTemperatureUncertainty',\n",
        "       'LandAndOceanAverageTemperature',\n",
        "       'LandAndOceanAverageTemperatureUncertainty']].mean()\n",
        "\n",
        "yearly_global_temperatures.head(5)"
      ]
    },
    {
      "cell_type": "code",
      "execution_count": null,
      "metadata": {
        "id": "Xu82Atnc3t2s",
        "outputId": "f59d751b-e68b-4f68-f762-fc561bea3db8"
      },
      "outputs": [
        {
          "data": {
            "text/html": [
              "<div>\n",
              "<style scoped>\n",
              "    .dataframe tbody tr th:only-of-type {\n",
              "        vertical-align: middle;\n",
              "    }\n",
              "\n",
              "    .dataframe tbody tr th {\n",
              "        vertical-align: top;\n",
              "    }\n",
              "\n",
              "    .dataframe thead th {\n",
              "        text-align: right;\n",
              "    }\n",
              "</style>\n",
              "<table border=\"1\" class=\"dataframe\">\n",
              "  <thead>\n",
              "    <tr style=\"text-align: right;\">\n",
              "      <th></th>\n",
              "      <th>LandAverageTemperature</th>\n",
              "      <th>LandMaxTemperature</th>\n",
              "      <th>LandMinTemperature</th>\n",
              "      <th>LandAndOceanAverageTemperature</th>\n",
              "    </tr>\n",
              "  </thead>\n",
              "  <tbody>\n",
              "    <tr>\n",
              "      <th>count</th>\n",
              "      <td>166.000000</td>\n",
              "      <td>166.000000</td>\n",
              "      <td>166.000000</td>\n",
              "      <td>166.000000</td>\n",
              "    </tr>\n",
              "    <tr>\n",
              "      <th>mean</th>\n",
              "      <td>8.571583</td>\n",
              "      <td>14.350601</td>\n",
              "      <td>2.743595</td>\n",
              "      <td>15.212566</td>\n",
              "    </tr>\n",
              "    <tr>\n",
              "      <th>std</th>\n",
              "      <td>0.473687</td>\n",
              "      <td>0.447741</td>\n",
              "      <td>0.614124</td>\n",
              "      <td>0.298629</td>\n",
              "    </tr>\n",
              "    <tr>\n",
              "      <th>min</th>\n",
              "      <td>7.558583</td>\n",
              "      <td>13.081000</td>\n",
              "      <td>1.525083</td>\n",
              "      <td>14.740083</td>\n",
              "    </tr>\n",
              "    <tr>\n",
              "      <th>25%</th>\n",
              "      <td>8.195708</td>\n",
              "      <td>14.055917</td>\n",
              "      <td>2.262562</td>\n",
              "      <td>14.991208</td>\n",
              "    </tr>\n",
              "    <tr>\n",
              "      <th>50%</th>\n",
              "      <td>8.540750</td>\n",
              "      <td>14.307708</td>\n",
              "      <td>2.734917</td>\n",
              "      <td>15.144208</td>\n",
              "    </tr>\n",
              "    <tr>\n",
              "      <th>75%</th>\n",
              "      <td>8.791250</td>\n",
              "      <td>14.539167</td>\n",
              "      <td>3.126833</td>\n",
              "      <td>15.379104</td>\n",
              "    </tr>\n",
              "    <tr>\n",
              "      <th>max</th>\n",
              "      <td>9.831000</td>\n",
              "      <td>15.572667</td>\n",
              "      <td>4.148833</td>\n",
              "      <td>16.058583</td>\n",
              "    </tr>\n",
              "  </tbody>\n",
              "</table>\n",
              "</div>"
            ],
            "text/plain": [
              "       LandAverageTemperature  LandMaxTemperature  LandMinTemperature  \\\n",
              "count              166.000000          166.000000          166.000000   \n",
              "mean                 8.571583           14.350601            2.743595   \n",
              "std                  0.473687            0.447741            0.614124   \n",
              "min                  7.558583           13.081000            1.525083   \n",
              "25%                  8.195708           14.055917            2.262562   \n",
              "50%                  8.540750           14.307708            2.734917   \n",
              "75%                  8.791250           14.539167            3.126833   \n",
              "max                  9.831000           15.572667            4.148833   \n",
              "\n",
              "       LandAndOceanAverageTemperature  \n",
              "count                      166.000000  \n",
              "mean                        15.212566  \n",
              "std                          0.298629  \n",
              "min                         14.740083  \n",
              "25%                         14.991208  \n",
              "50%                         15.144208  \n",
              "75%                         15.379104  \n",
              "max                         16.058583  "
            ]
          },
          "execution_count": 14,
          "metadata": {},
          "output_type": "execute_result"
        }
      ],
      "source": [
        "# Einfache zusammenfassende Statistiken\n",
        "yearly_global_temperatures[['LandAverageTemperature', 'LandMaxTemperature', \n",
        "       'LandMinTemperature', 'LandAndOceanAverageTemperature']].describe()"
      ]
    },
    {
      "cell_type": "code",
      "execution_count": null,
      "metadata": {
        "id": "jPPEaQhu3t2t"
      },
      "outputs": [],
      "source": [
        "Jahre = yearly_global_temperatures.index\n",
        "temperaturen_global = yearly_global_temperatures['LandAverageTemperature']\n",
        "Durchschnitt_global = np.mean(temperaturen_global)"
      ]
    },
    {
      "cell_type": "code",
      "execution_count": null,
      "metadata": {
        "id": "-Kzc1UkZ3t2t",
        "outputId": "2ae888e0-b13b-4756-992f-f8cdcbcb7599"
      },
      "outputs": [
        {
          "data": {
            "image/png": "[encoded data removed]",
            "text/plain": [
              "<Figure size 432x288 with 1 Axes>"
            ]
          },
          "metadata": {
            "needs_background": "light"
          },
          "output_type": "display_data"
        }
      ],
      "source": [
        "# Hier erstellen wir den Plot\n",
        "plt.plot(Jahre, temperaturen_global)\n",
        "plt.suptitle(\"Durchschnittstemperatur auf dem Land von 1750-2015 in °C\")\n",
        "plt.axhline(Durchschnitt_global, linestyle=\"--\", color=\"grey\")\n",
        "# Um den Plot anzeigen zu lassen, verwenden wir plt.show()\n",
        "plt.show()"
      ]
    },
    {
      "cell_type": "code",
      "execution_count": null,
      "metadata": {
        "id": "_NLmhnXH3t2u"
      },
      "outputs": [],
      "source": [
        "countries = pd.read_csv('countries.csv')\n",
        "region = pd.read_csv(\"region.csv\")\n",
        "cities = pd.read_csv(\"cities.csv\")"
      ]
    },
    {
      "cell_type": "code",
      "execution_count": null,
      "metadata": {
        "id": "wMLw-ZP63t2u",
        "outputId": "a1c1d32d-d3c0-4761-f0bf-585d43449c00"
      },
      "outputs": [
        {
          "data": {
            "text/html": [
              "<div>\n",
              "<style scoped>\n",
              "    .dataframe tbody tr th:only-of-type {\n",
              "        vertical-align: middle;\n",
              "    }\n",
              "\n",
              "    .dataframe tbody tr th {\n",
              "        vertical-align: top;\n",
              "    }\n",
              "\n",
              "    .dataframe thead th {\n",
              "        text-align: right;\n",
              "    }\n",
              "</style>\n",
              "<table border=\"1\" class=\"dataframe\">\n",
              "  <thead>\n",
              "    <tr style=\"text-align: right;\">\n",
              "      <th></th>\n",
              "      <th>region</th>\n",
              "      <th>Country</th>\n",
              "      <th>year</th>\n",
              "      <th>AverageTemperature</th>\n",
              "      <th>AverageTemperatureUncertainty</th>\n",
              "    </tr>\n",
              "  </thead>\n",
              "  <tbody>\n",
              "    <tr>\n",
              "      <th>0</th>\n",
              "      <td>Africa</td>\n",
              "      <td>Algeria</td>\n",
              "      <td>1825</td>\n",
              "      <td>17.642750</td>\n",
              "      <td>2.168750</td>\n",
              "    </tr>\n",
              "    <tr>\n",
              "      <th>1</th>\n",
              "      <td>Africa</td>\n",
              "      <td>Algeria</td>\n",
              "      <td>1826</td>\n",
              "      <td>17.461233</td>\n",
              "      <td>2.140183</td>\n",
              "    </tr>\n",
              "    <tr>\n",
              "      <th>2</th>\n",
              "      <td>Africa</td>\n",
              "      <td>Algeria</td>\n",
              "      <td>1827</td>\n",
              "      <td>17.456433</td>\n",
              "      <td>2.193283</td>\n",
              "    </tr>\n",
              "    <tr>\n",
              "      <th>3</th>\n",
              "      <td>Africa</td>\n",
              "      <td>Algeria</td>\n",
              "      <td>1828</td>\n",
              "      <td>17.902917</td>\n",
              "      <td>2.200283</td>\n",
              "    </tr>\n",
              "    <tr>\n",
              "      <th>4</th>\n",
              "      <td>Africa</td>\n",
              "      <td>Algeria</td>\n",
              "      <td>1829</td>\n",
              "      <td>17.311133</td>\n",
              "      <td>2.390317</td>\n",
              "    </tr>\n",
              "  </tbody>\n",
              "</table>\n",
              "</div>"
            ],
            "text/plain": [
              "   region  Country  year  AverageTemperature  AverageTemperatureUncertainty\n",
              "0  Africa  Algeria  1825           17.642750                       2.168750\n",
              "1  Africa  Algeria  1826           17.461233                       2.140183\n",
              "2  Africa  Algeria  1827           17.456433                       2.193283\n",
              "3  Africa  Algeria  1828           17.902917                       2.200283\n",
              "4  Africa  Algeria  1829           17.311133                       2.390317"
            ]
          },
          "execution_count": 19,
          "metadata": {},
          "output_type": "execute_result"
        }
      ],
      "source": [
        "countries.head()"
      ]
    },
    {
      "cell_type": "code",
      "execution_count": null,
      "metadata": {
        "id": "3hpRd-tV3t2u"
      },
      "outputs": [],
      "source": [
        "def pad(x):\n",
        "  n = Jahre.shape[0]\n",
        "  k = x.shape[0]\n",
        "  ret = np.zeros(n)\n",
        "  ret[n-k:] = x\n",
        "  return ret"
      ]
    },
    {
      "cell_type": "code",
      "execution_count": null,
      "metadata": {
        "id": "850wJUp23t2v"
      },
      "outputs": [],
      "source": [
        "#In Europa interessieren wir uns für die Länder Deutschland, Österreich, Schweiz und Italien\n",
        "Jahre       = countries[countries['Country'] == 'Germany']['year']\n",
        "Deutschland = countries[countries['Country'] == 'Germany']['AverageTemperature']\n",
        "Österreich  = countries[countries['Country'] == 'Austria']['AverageTemperature']\n",
        "Schweiz     = countries[countries['Country'] == 'Switzerland']['AverageTemperature']\n",
        "Italien     = countries[countries['Country'] == 'Italy']['AverageTemperature']\n",
        "\n",
        "#Außerhalb Europas für die USA, Ghana und Australien\n",
        "USA            = countries[countries['Country'] == 'United States']['AverageTemperature']\n",
        "Ghana          = countries[countries['Country'] == 'Ghana']['AverageTemperature']\n",
        "Ghana          = pad(Ghana)\n",
        "Australien     = countries[countries['Country'] == 'Australia']['AverageTemperature']"
      ]
    },
    {
      "cell_type": "code",
      "execution_count": null,
      "metadata": {
        "id": "wJwGbpSs3t2v",
        "outputId": "653d8e94-edab-4a28-a341-179a796527d1"
      },
      "outputs": [
        {
          "data": {
            "image/png": "[encoded data removed]",
            "text/plain": [
              "<Figure size 432x288 with 1 Axes>"
            ]
          },
          "metadata": {
            "needs_background": "light"
          },
          "output_type": "display_data"
        }
      ],
      "source": [
        "#Wir fügen zu beiden Zeitreihen ein Label hinzu\n",
        "plt.plot(Jahre, Deutschland, label=\"Deutschland\")\n",
        "plt.plot(Jahre, Italien, label=\"Italien\")\n",
        "### Dein Code hier\n",
        "plt.suptitle(\"Durchschnittstemperatur in Deutschland und Italien von 1825-2015 in °C\")\n",
        "plt.legend()\n",
        "plt.show()"
      ]
    },
    {
      "cell_type": "code",
      "execution_count": null,
      "metadata": {
        "id": "c5FAxCvX3t2v"
      },
      "outputs": [],
      "source": [
        "Deutschland_Durchschnitt = np.mean(Deutschland)"
      ]
    },
    {
      "cell_type": "code",
      "execution_count": null,
      "metadata": {
        "id": "R-gcBnov3t2w",
        "outputId": "d3699c8d-b929-4023-e443-3ad1a6f134a4"
      },
      "outputs": [
        {
          "data": {
            "text/plain": [
              "<matplotlib.collections.PathCollection at 0x19a9d9c9580>"
            ]
          },
          "execution_count": 24,
          "metadata": {},
          "output_type": "execute_result"
        },
        {
          "data": {
            "image/png": "[encoded data removed]",
            "text/plain": [
              "<Figure size 432x288 with 1 Axes>"
            ]
          },
          "metadata": {
            "needs_background": "light"
          },
          "output_type": "display_data"
        }
      ],
      "source": [
        "körpergrößen = [165, 175, 139, 178, 166, 182, 172, 174, 192, 169, 177, 180, 167, 155, 228]\n",
        "alter = [15, 17, 12, 16, 15.5, 18, 17, 17.5, 21, 16.5, 18, 18.5, 20, 14, 20.5]\n",
        "\n",
        "\n",
        "plt.scatter(alter, körpergrößen, color=\"black\")"
      ]
    },
    {
      "cell_type": "code",
      "execution_count": null,
      "metadata": {
        "id": "cO3Op6bu3t2w",
        "outputId": "e9178e62-e217-42f7-a5e5-fe33927e8821"
      },
      "outputs": [
        {
          "data": {
            "image/png": "[encoded data removed]",
            "text/plain": [
              "<Figure size 432x288 with 1 Axes>"
            ]
          },
          "metadata": {
            "needs_background": "light"
          },
          "output_type": "display_data"
        }
      ],
      "source": [
        "from sklearn.linear_model import LinearRegression\n",
        "alter = np.reshape(alter, (-1, 1))\n",
        "\n",
        "# 1) Definiere die X \n",
        "X = alter\n",
        "y = körpergrößen\n",
        "\n",
        "# 2) Erstelle das lineare Model Object (aus der importierten library)\n",
        "reg = LinearRegression()\n",
        "\n",
        "# 3) Lasse das Model die Rechnungen ausführen, um das Model zu erstellen\n",
        "reg.fit(X, y)\n",
        "\n",
        "# 4) Berechne Vorhersagewerte anhand des Models \n",
        "model = reg.predict(alter)\n",
        "\n",
        "# originale Messwerte in einem \"Scatterplot\"\n",
        "plt.scatter(X, y, color='k', label=\"Messwerte\")\n",
        "\n",
        "# berechnete Gerade der linearen Regression\n",
        "plt.plot(X, model, color='b', label=\"Lineares Model\")\n",
        "\n",
        "plt.show()"
      ]
    },
    {
      "cell_type": "code",
      "execution_count": null,
      "metadata": {
        "id": "N33ccUiT3t2x"
      },
      "outputs": [],
      "source": []
    }
  ],
  "metadata": {
    "kernelspec": {
      "display_name": "base",
      "language": "python",
      "name": "python3"
    },
    "language_info": {
      "codemirror_mode": {
        "name": "ipython",
        "version": 3
      },
      "file_extension": ".py",
      "mimetype": "text/x-python",
      "name": "python",
      "nbconvert_exporter": "python",
      "pygments_lexer": "ipython3",
      "version": "3.9.7"
    },
    "orig_nbformat": 4,
    "vscode": {
      "interpreter": {
        "hash": "016927d8ad3c10ecf303712e3fc97838f3674755a35a6bb1d80bba27a777ad04"
      }
    },
    "colab": {
      "provenance": []
    }
  },
  "nbformat": 4,
  "nbformat_minor": 0
}